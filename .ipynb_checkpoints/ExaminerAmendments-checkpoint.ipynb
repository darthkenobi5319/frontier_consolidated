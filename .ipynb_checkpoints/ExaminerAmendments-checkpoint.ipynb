{
 "cells": [
  {
   "cell_type": "code",
   "execution_count": null,
   "id": "0164e5a3-9935-45d9-8866-a8cf65be6508",
   "metadata": {},
   "outputs": [],
   "source": [
    "# We construct an examiner toughness based on time\n",
    "# First step: we need to be sure of the number of observations based on different dataset\n",
    "# Application data: research-311404.Examiner_Toughness.Examiner_Application; USPTO-2021 PatEx DATASET, 13,556,609 entries\n",
    "# Transaction data: research-311404.Examiner_Toughness.Examiner_transactions; USPTO-2021 PatEx DATASET, 481,133,923 entries\n",
    "# Choose utility patents, and count the number of applications/amendments up to a date"
   ]
  },
  {
   "cell_type": "code",
   "execution_count": 2,
   "id": "1ce9b219-398e-4e01-821a-dc38e672c535",
   "metadata": {
    "tags": []
   },
   "outputs": [
    {
     "name": "stdout",
     "output_type": "stream",
     "text": [
      "Client creating using default project: research-311404\n"
     ]
    }
   ],
   "source": [
    "import base64\n",
    "import datetime\n",
    "import pandas as pd\n",
    "import json\n",
    "from google.cloud import bigquery\n",
    "\n",
    "client = bigquery.Client(location=\"US\")\n",
    "print(\"Client creating using default project: {}\".format(client.project))"
   ]
  },
  {
   "cell_type": "code",
   "execution_count": 3,
   "id": "0eadfaea-d13e-402a-88b5-87d55c9fe8c7",
   "metadata": {
    "tags": []
   },
   "outputs": [
    {
     "data": {
      "text/plain": [
       "<google.cloud.bigquery.table._EmptyRowIterator at 0x7f9e380f6500>"
      ]
     },
     "execution_count": 3,
     "metadata": {},
     "output_type": "execute_result"
    }
   ],
   "source": [
    "# Consolidate to a single file\n",
    "sql = \"\"\"\n",
    "        CREATE TABLE research-311404.Examiner_Toughness_Amendments_Consolidated.amendments\n",
    "        AS SELECT t1.*, amendment_date FROM (SELECT application_number,filing_date,examiner_full_name,examiner_art_unit,patent_number FROM `research-311404.Examiner_Toughness.Examiner_Application` WHERE application_invention_type = 'Utility')t1\n",
    "        LEFT JOIN\n",
    "        (SELECT application_number,date AS amendment_date FROM `research-311404.Examiner_Toughness.Examiner_transactions` WHERE event_code = 'A...' or event_code = 'A.I.' or event_code = 'A.NE 'or event_code = 'A.NQ')t2\n",
    "        ON t1.application_number = t2.application_number\n",
    "        WHERE filing_date IS NOT NULL AND examiner_full_name IS NOT NULL\n",
    "        ORDER BY examiner_full_name,filing_date,amendment_date\n",
    "        \"\"\"\n",
    "\n",
    "job = client.query(sql)  # API request.\n",
    "job.result()\n",
    "# 13,281,623 outputs where there is not null for application year and examiner"
   ]
  },
  {
   "cell_type": "code",
   "execution_count": 4,
   "id": "12104141-b3e0-4d4d-9dd2-d5a0f534dc69",
   "metadata": {
    "tags": []
   },
   "outputs": [
    {
     "data": {
      "text/plain": [
       "<google.cloud.bigquery.table._EmptyRowIterator at 0x7f9e381b54b0>"
      ]
     },
     "execution_count": 4,
     "metadata": {},
     "output_type": "execute_result"
    }
   ],
   "source": [
    "# From this point on, we should construct two things: 1.cumulative count of applications for each examiner; 2. cumulative count of amendments for each examiner\n",
    "# We start from the applications\n",
    "# Consolidate to a single file\n",
    "sql = \"\"\"\n",
    "        CREATE TABLE research-311404.Examiner_Toughness_Amendments_Consolidated.application_count\n",
    "        AS SELECT \n",
    "            application_number, \n",
    "            filing_date, \n",
    "            examiner_full_name, \n",
    "            ROW_NUMBER() OVER(PARTITION BY examiner_full_name ORDER BY filing_date ASC) as application_count\n",
    "        FROM \n",
    "             (SELECT application_number, filing_date, examiner_full_name FROM `research-311404.Examiner_Toughness_Amendments_Consolidated.amendments` GROUP BY application_number, filing_date, examiner_full_name)\n",
    "        ORDER BY \n",
    "            examiner_full_name, \n",
    "            filing_date;\n",
    "\n",
    "        \"\"\"\n",
    "\n",
    "job = client.query(sql)  # API request.\n",
    "job.result()\n",
    "# 9,992,041 unique applications"
   ]
  },
  {
   "cell_type": "code",
   "execution_count": 5,
   "id": "d0580c77-8767-4662-b374-b5f0668c0b03",
   "metadata": {
    "tags": []
   },
   "outputs": [
    {
     "data": {
      "text/plain": [
       "<google.cloud.bigquery.table._EmptyRowIterator at 0x7f9e3823c220>"
      ]
     },
     "execution_count": 5,
     "metadata": {},
     "output_type": "execute_result"
    }
   ],
   "source": [
    "# Continue to amendments\n",
    "# Consolidate to a single file\n",
    "sql = \"\"\"\n",
    "        CREATE TABLE research-311404.Examiner_Toughness_Amendments_Consolidated.amendment_count\n",
    "        AS SELECT \n",
    "    examiner_full_name, amendment_date,\n",
    "        ROW_NUMBER() OVER(PARTITION BY examiner_full_name ORDER BY amendment_date ASC) as amendment_count\n",
    "    FROM `research-311404.Examiner_Toughness_Amendments_Consolidated.amendments` WHERE amendment_date IS NOT NULL\n",
    "    ORDER BY \n",
    "        examiner_full_name, \n",
    "        amendment_date;\n",
    "\n",
    "\n",
    "        \"\"\"\n",
    "\n",
    "job = client.query(sql)  # API request.\n",
    "job.result()\n",
    "# 10,458,162 amendments"
   ]
  },
  {
   "cell_type": "code",
   "execution_count": null,
   "id": "aa13c68a-dec8-42e9-866e-0328fede5d82",
   "metadata": {
    "tags": []
   },
   "outputs": [],
   "source": [
    "# Continue to amendments\n",
    "# Consolidate to a single file\n",
    "sql = \"\"\"\n",
    "        CREATE TABLE research-311404.Examiner_Toughness_Amendments_Consolidated.amendment_count_by_filingtime\n",
    "        AS \n",
    "        WITH A AS (SELECT * FROM research-311404.Examiner_Toughness_Amendments_Consolidated.application_count), B AS (SELECT * FROM research-311404.Examiner_Toughness_Amendments_Consolidated.amendment_count)\n",
    "SELECT \n",
    "    A.examiner_full_name, \n",
    "    A.filing_date, \n",
    "    B.amendment_count\n",
    "FROM \n",
    "    A\n",
    "LEFT JOIN \n",
    "    B ON A.examiner_full_name = B.examiner_full_name\n",
    "WHERE \n",
    "    B.amendment_date = (\n",
    "        SELECT \n",
    "            MAX(amendment_date) \n",
    "        FROM \n",
    "            B \n",
    "        WHERE \n",
    "            amendment_date <= A.filing_date\n",
    "    )\n",
    "ORDER BY \n",
    "    A.examiner_full_name, \n",
    "    A.filing_date;\n",
    "\n",
    "        \"\"\"\n",
    "\n",
    "job = client.query(sql)  # API request.\n",
    "job.result()\n",
    "\n"
   ]
  },
  {
   "cell_type": "code",
   "execution_count": null,
   "id": "1b749620-ea29-47d3-b13f-b96aa557c4c0",
   "metadata": {},
   "outputs": [],
   "source": []
  }
 ],
 "metadata": {
  "environment": {
   "kernel": "conda-root-py",
   "name": "workbench-notebooks.m113",
   "type": "gcloud",
   "uri": "gcr.io/deeplearning-platform-release/workbench-notebooks:m113"
  },
  "kernelspec": {
   "display_name": "Python 3 (ipykernel) (Local)",
   "language": "python",
   "name": "conda-root-py"
  },
  "language_info": {
   "codemirror_mode": {
    "name": "ipython",
    "version": 3
   },
   "file_extension": ".py",
   "mimetype": "text/x-python",
   "name": "python",
   "nbconvert_exporter": "python",
   "pygments_lexer": "ipython3",
   "version": "3.10.13"
  }
 },
 "nbformat": 4,
 "nbformat_minor": 5
}
