{
 "cells": [
  {
   "cell_type": "markdown",
   "id": "32f49ff9-d4b2-4fbf-a25b-9755bcaa7fd5",
   "metadata": {},
   "source": [
    "# This is a consolidated version of all the data\n"
   ]
  },
  {
   "cell_type": "code",
   "execution_count": 6,
   "id": "417b7c7c-14f2-4d11-ba08-360fd6021cfe",
   "metadata": {
    "tags": []
   },
   "outputs": [
    {
     "name": "stdout",
     "output_type": "stream",
     "text": [
      "Client creating using default project: research-311404\n"
     ]
    }
   ],
   "source": [
    "import base64\n",
    "import datetime\n",
    "import pandas as pd\n",
    "import json\n",
    "from google.cloud import bigquery\n",
    "\n",
    "client = bigquery.Client(location=\"US\")\n",
    "print(\"Client creating using default project: {}\".format(client.project))"
   ]
  },
  {
   "cell_type": "markdown",
   "id": "89e78efd-7da6-4546-b5fd-8ab3dd7e8f77",
   "metadata": {},
   "source": [
    "**AI2P data is suuposed to be 'good'**\n",
    "\n",
    "\n",
    " So check a three-year inventory on the D data\n",
    " This time, put the adjusted D data in there as well"
   ]
  },
  {
   "cell_type": "code",
   "execution_count": 7,
   "id": "4f925447-7ec5-44d6-a1f0-662365de7fa5",
   "metadata": {
    "tags": []
   },
   "outputs": [
    {
     "data": {
      "text/plain": [
       "<google.cloud.bigquery.table._EmptyRowIterator at 0x7fed82a7ff10>"
      ]
     },
     "execution_count": 7,
     "metadata": {},
     "output_type": "execute_result"
    }
   ],
   "source": [
    "#this dataset: research-311404.AI2Patent_TreeConstruction_202308.AI2P_w_paper_full_inversed\n",
    "# Used the full AI2P Tree and appended paper data\n",
    "sql = \"\"\"\n",
    "        CREATE TABLE research-311404.AI2Patent_Tree_Consolidated.AI2P_patent_level_min_full\n",
    "        AS SELECT patentid,year,  inverse_D, (SUM(D_Cf)/NULLIF(SUM(C_f),0)) AS D_Cf, (SUM(D_Hit)/NULLIF(SUM(Hit_10pct),0)) AS D_Hit, (SUM(D_Disruption)/NULLIF(SUM(Disruption),0)) AS D_Disruption, (SUM(D_Exposure)/NULLIF(SUM(Exposure),0)) AS D_Exposure, (SUM(D_time)/NULLIF(SUM(Timelag_inv),0)) AS D_time FROM  `research-311404.AI2Patent_TreeConstruction_202308.AI2P_w_paper_full_inversed`\n",
    "\n",
    "        group by patentid,year,inverse_D\n",
    "        \"\"\"\n",
    "\n",
    "job = client.query(sql)  # API request.\n",
    "job.result()  # Waits for the query to finish.\n",
    "# 44,899,250 Entries (patent_ids)"
   ]
  },
  {
   "cell_type": "code",
   "execution_count": 13,
   "id": "b4edf323-6d7b-41a0-8b72-dad66b10380e",
   "metadata": {},
   "outputs": [],
   "source": [
    "# AI2P dataset contains from year 1980-2021. Therefore to have available data from t-3 to t+3, \n",
    "# we need to construct year-level data (t) ranging from 1982 to 2017\n",
    "# Construting AI2P SCORE\n",
    "# D values are calculated on the average of the pre-three year patent inventory\n",
    "for t in range(36):\n",
    "    start_year = t + 1980\n",
    "    end_year = t + 1982\n",
    "    sql = f\"\"\"\n",
    "        CREATE TABLE research-311404.temp.AI2P_{end_year}\n",
    "        AS SELECT inventor_id, {end_year} AS fyear,  AVG(inverse_D) AS inverse_D, AVG(D_Cf) AS D_Cf, AVG(D_Hit) AS D_Hit, AVG(D_Disruption) AS D_Disruption, AVG(D_Exposure) AS D_Exposure ,AVG(D_time)  AS  D_time FROM\n",
    "        ((SELECT patentid,year,  inverse_D, D_Cf, D_Hit, D_Disruption, D_Exposure,D_time FROM  `research-311404.AI2Patent_Tree_Consolidated.AI2P_patent_level_min_full`)t1\n",
    "        LEFT JOIN\n",
    "        (SELECT patent_id,inventor_id FROM `patents-public-data.patentsview.patent_inventor` )t2\n",
    "        ON t1.patentid = t2.patent_id\n",
    "        )WHERE year >= {start_year} and year <= {end_year}\n",
    "        group by inventor_id\n",
    "        \"\"\"\n",
    "\n",
    "    job = client.query(sql)  # API request.\n",
    "    job.result()  # Waits for the query to finish.\n"
   ]
  },
  {
   "cell_type": "code",
   "execution_count": 14,
   "id": "63106daf-9cd4-467e-af75-863815e9d95a",
   "metadata": {
    "tags": []
   },
   "outputs": [
    {
     "data": {
      "text/plain": [
       "<google.cloud.bigquery.table._EmptyRowIterator at 0x7fed81cae2c0>"
      ]
     },
     "execution_count": 14,
     "metadata": {},
     "output_type": "execute_result"
    }
   ],
   "source": [
    "# Consolidate to a single file\n",
    "sql = \"\"\"\n",
    "        CREATE TABLE research-311404.AI2Patent_Tree_Consolidated.AI2P\n",
    "        AS SELECT * FROM `research-311404.temp.AI2P_*`\n",
    "        \"\"\"\n",
    "\n",
    "job = client.query(sql)  # API request.\n",
    "job.result()"
   ]
  },
  {
   "cell_type": "code",
   "execution_count": 20,
   "id": "527ae2ca-4e2e-4395-87c4-b792cc9186ac",
   "metadata": {
    "tags": []
   },
   "outputs": [
    {
     "name": "stdout",
     "output_type": "stream",
     "text": [
      "Table research-311404.AI2Patent_Tree_Consolidated.AI2P now contains 13806025 rows\n"
     ]
    }
   ],
   "source": [
    "table_id = \"research-311404.AI2Patent_Tree_Consolidated.AI2P\"\n",
    "table = client.get_table(table_id)\n",
    "print(\"Table {} now contains {} rows\".format(table_id, table.num_rows))"
   ]
  },
  {
   "cell_type": "code",
   "execution_count": null,
   "id": "264a7565-cffa-49a7-9073-bfab20213a6f",
   "metadata": {},
   "outputs": [],
   "source": [
    "# The respective examiner toughness metric should also be constructed here\n",
    "# We use this table: research-311404.Examiner_toughness_by_date.examiner_table_fillna\n",
    "# Limited by OCE PAIR dataset: 9,817,693 application_number-examiner pairs\n",
    "# 9,739,630 not Null examiner names\n",
    "#  PENDING.........................................................\n",
    "# This table contains count information for all "
   ]
  },
  {
   "cell_type": "code",
   "execution_count": 18,
   "id": "d4805145-1ee3-47af-9a1f-31b3ad9269cf",
   "metadata": {},
   "outputs": [],
   "source": [
    "# Construting Dependent variables: They should be three years looking forward: t+1 - t+3\n",
    "# Note that the 'fyear' here is just \n",
    "# 1. PatMV\n",
    "\n",
    "for t in range(36):\n",
    "    start_year = t + 1983\n",
    "    fyear = t + 1982\n",
    "    end_year = t + 1985\n",
    "    sql = f\"\"\"\n",
    "        CREATE TABLE research-311404.temp.PatMV_{end_year}\n",
    "        AS SELECT inventor_id, {fyear} AS fyear,  AVG(xi_real) AS xi_real FROM\n",
    "        ((SELECT patentid,year FROM  `research-311404.AI2Patent_Tree_Consolidated.AI2P_patent_level_min_full`)t1\n",
    "        LEFT JOIN\n",
    "        (SELECT patent_id,inventor_id FROM `patents-public-data.patentsview.patent_inventor` )t2\n",
    "        ON t1.patentid = t2.patent_id\n",
    "        LEFT JOIN\n",
    "        (SELECT CAST(patent_num AS STRING) AS patid,xi_real FROM `research-311404.KPSS_2022.KPSS_2022`)t3\n",
    "        ON t1.patentid = t3.patid\n",
    "        )WHERE year >= {start_year} and year <= {end_year}\n",
    "        group by inventor_id\n",
    "        \"\"\"\n",
    "\n",
    "    job = client.query(sql)  # API request.\n",
    "    job.result()  # Waits for the query to finish.\n"
   ]
  },
  {
   "cell_type": "code",
   "execution_count": 19,
   "id": "4ec3090e-e9dc-4b7e-8dfd-5bf9eba57b96",
   "metadata": {
    "tags": []
   },
   "outputs": [
    {
     "name": "stdout",
     "output_type": "stream",
     "text": [
      "Table research-311404.AI2Patent_Tree_Consolidated.PatMV now contains 15755250 rows\n"
     ]
    }
   ],
   "source": [
    "# Consolidate to a single file\n",
    "sql = \"\"\"\n",
    "        CREATE TABLE research-311404.AI2Patent_Tree_Consolidated.PatMV\n",
    "        AS SELECT * FROM `research-311404.temp.PatMV_*`\n",
    "        \"\"\"\n",
    "\n",
    "job = client.query(sql)  # API request.\n",
    "job.result()\n",
    "table_id = \"research-311404.AI2Patent_Tree_Consolidated.PatMV\"\n",
    "table = client.get_table(table_id)\n",
    "print(\"Table {} now contains {} rows\".format(table_id, table.num_rows))"
   ]
  },
  {
   "cell_type": "markdown",
   "id": "447cf945-280d-4499-b664-563d6bd50bb6",
   "metadata": {},
   "source": [
    "PatTV： 每个专利的TV为该专利在授权后3年内的引用数目/该专利申请当年同一类专利在未来3年的引用量的平均<br>\n",
    "专利类别用的是cpc 分类的group id  -- 会有专利没有类别记录<br>\n",
    "logistics： <br>\n",
    "1. 确定专利的第一个cpc类别作为它的类别 \n",
    "2. 确定在1980-2021年内申请的专利以及他们的类别 \n",
    "3. 确定在1980-2021年申请的专利授权后36个月内的引用关系\n",
    "4. 确定每个类别在1980-2021年申请的专利中平均每个的3年引用数量\n",
    "5. 计算1980-2021申请的专利中每个的 scaled_TV\n",
    "6. 计算inventor当年PatTV总和"
   ]
  },
  {
   "cell_type": "code",
   "execution_count": 21,
   "id": "ca7a8c45-9f1e-40a6-a1b0-4822f7c55e1e",
   "metadata": {
    "tags": []
   },
   "outputs": [
    {
     "data": {
      "text/plain": [
       "<google.cloud.bigquery.table._EmptyRowIterator at 0x7fed812035b0>"
      ]
     },
     "execution_count": 21,
     "metadata": {},
     "output_type": "execute_result"
    }
   ],
   "source": [
    "# PatTV: Note that PatTV is forward looking: meaning that since our dataset ranges up to 2021, then the maximum year for PatTV is supposed to be 2018, further backwarding the maximum t to be 2015 (to include t+1 - t+3)\n",
    "#step 1\n",
    "sql = \"\"\"\n",
    "CREATE TABLE\n",
    "  `research-311404.PatTV_Construction.first_cpc_category` AS\n",
    "SELECT * from(\n",
    "SELECT *, ROW_NUMBER() OVER(PARTITION BY patent_id ORDER BY sequence) AS row_number\n",
    "    from (\n",
    "SELECT patent_id,subsection_id, group_id,sequence \n",
    "FROM `patents-public-data.patentsview.cpc_current` \n",
    "where category = \"inventional\"\n",
    "order by patent_id,sequence)) \n",
    "WHERE row_number = 1\n",
    "\"\"\"\n",
    "job = client.query(sql)  # API request.\n",
    "job.result()"
   ]
  },
  {
   "cell_type": "code",
   "execution_count": 22,
   "id": "39bdc7ba-0f81-4af0-b766-abdc2b014c1e",
   "metadata": {
    "tags": []
   },
   "outputs": [
    {
     "data": {
      "text/plain": [
       "<google.cloud.bigquery.table._EmptyRowIterator at 0x7fed82238af0>"
      ]
     },
     "execution_count": 22,
     "metadata": {},
     "output_type": "execute_result"
    }
   ],
   "source": [
    "#step 2\n",
    "sql = \"\"\"\n",
    "CREATE TABLE\n",
    "  `research-311404.PatTV_Construction.application` AS\n",
    "select * from (SELECT t1.patent_id,cast (substr(date,1,4) as int64) as application_year, \n",
    "extract(date from DATETIME(cast(substr(t1.date, 0,4) as int64) , cast(substr(t1.date, 6,2) as int64),1,1,1,1)) as application_month, \n",
    "subsection_id, group_id,  \n",
    "FROM `patents-public-data.patentsview.application` as t1\n",
    "left join `research-311404.PatTV_Construction.first_cpc_category` as t2\n",
    "on t1.patent_id=t2.patent_id\n",
    "where country = \"US\") where application_year<=2021 and application_year>=1980\n",
    "order by application_year\n",
    "\"\"\"\n",
    "job = client.query(sql)  # API request.\n",
    "job.result()"
   ]
  },
  {
   "cell_type": "code",
   "execution_count": 24,
   "id": "ecf8efdd-c886-4327-8737-a5533fcc93ce",
   "metadata": {
    "tags": []
   },
   "outputs": [
    {
     "data": {
      "text/plain": [
       "<google.cloud.bigquery.table._EmptyRowIterator at 0x7fed81201420>"
      ]
     },
     "execution_count": 24,
     "metadata": {},
     "output_type": "execute_result"
    }
   ],
   "source": [
    "#step 3 -->部分专利没有cpc类别，group_id为空\n",
    "sql = \"\"\"\n",
    "CREATE TABLE\n",
    "  `research-311404.PatTV_Construction.3_year_uspatentcitation` AS\n",
    "select * from (select *, \n",
    "date_diff(citation_application_month,patent_grant_month, month) as month_diff\n",
    " from (select t1.patent_id, subsection_id, group_id, application_month,t3.patent_id as citation_id,\n",
    "extract(date from DATETIME(cast(substr(t2.date, 0,4) as int64) , cast(substr(t2.date, 6,2) as int64),1,1,1,1)) as patent_grant_month,\n",
    "extract(date from DATETIME(cast(substr(t3.date, 0,4) as int64) , cast(substr(t3.date, 6,2) as int64),1,1,1,1)) as citation_application_month,\n",
    "from `research-311404.PatTV_Construction.application` as t1\n",
    "join (select * from `patents-public-data.patentsview.uspatentcitation` where cast(substr(date,1,4) as int64) >= 1000) as t2\n",
    "on t1.patent_id=t2.citation_id\n",
    "join (select * from `patents-public-data.patentsview.application` where cast(substr(date,1,4) as int64) >= 1000) as t3\n",
    "on t2.patent_id = t3.patent_id))\n",
    "where month_diff <=3*12 and month_diff>=0\n",
    "order by patent_id\n",
    "\"\"\"\n",
    "job = client.query(sql)  # API request.\n",
    "job.result()"
   ]
  },
  {
   "cell_type": "code",
   "execution_count": 25,
   "id": "dab1643d-3c43-4474-859e-8e6b25edf8ea",
   "metadata": {
    "tags": []
   },
   "outputs": [
    {
     "name": "stdout",
     "output_type": "stream",
     "text": [
      "Table research-311404.PatTV_Construction.avg_3_year_citation_for_each_class_year now contains 25146 rows\n"
     ]
    }
   ],
   "source": [
    "#step 4 -->把空的cpc都归为了一类，计算平均citation数量\n",
    "sql = \"\"\"\n",
    "CREATE TABLE\n",
    "  `research-311404.PatTV_Construction.avg_3_year_citation_for_each_class_year` AS\n",
    "select group_id, application_year,avg(citation_num) as avg_citation from\n",
    "(select t1.patent_id, t1.subsection_id, t1.group_id,t1.application_year,\n",
    "case when citation_num is null then 0 else citation_num end as citation_num\n",
    "from `research-311404.PatTV_Construction.application` as t1\n",
    "left join  \n",
    "(select patent_id, count(citation_id) as citation_num from\n",
    "`research-311404.PatTV_Construction.3_year_uspatentcitation`\n",
    "group by patent_id) as t2\n",
    "on t1.patent_id=t2.patent_id) group by group_id,application_year\n",
    "order by application_year\n",
    "\"\"\"\n",
    "job = client.query(sql)  # API request.\n",
    "job.result()\n",
    "\n",
    "table_id = \"research-311404.PatTV_Construction.avg_3_year_citation_for_each_class_year\"\n",
    "table = client.get_table(table_id)\n",
    "print(\"Table {} now contains {} rows\".format(table_id, table.num_rows))"
   ]
  },
  {
   "cell_type": "code",
   "execution_count": 26,
   "id": "291a6b0d-ba32-4324-b02e-37f6582ad2dc",
   "metadata": {
    "tags": []
   },
   "outputs": [
    {
     "name": "stdout",
     "output_type": "stream",
     "text": [
      "Table research-311404.PatTV_Construction.scaled_citation now contains 123441210 rows\n"
     ]
    }
   ],
   "source": [
    "#step 5 ———> 要分两步，由于有一些专利没有cpc类别，他们的group_id无法直接匹配，因此先计算出有cpc类别的专利的scaled citation，再往表格中插入这些没有的\n",
    "sql = \"\"\"\n",
    "CREATE TABLE\n",
    "  `research-311404.PatTV_Construction.scaled_citation` AS\n",
    "select A.*,avg_citation, case when avg_citation = 0 then 0 else citation_count/avg_citation end as scaled_citation from (\n",
    "select inventor_id, t1.patentid, t1.year,t2.group_id,\n",
    "case when citation_count is null then 0 else citation_count end as citation_count\n",
    "from (SELECT * FROM (SELECT patentid,year FROM  `research-311404.AI2Patent_Tree_Consolidated.AI2P_patent_level_min_full`)a1\n",
    "        LEFT JOIN\n",
    "        (SELECT patent_id,inventor_id FROM `patents-public-data.patentsview.patent_inventor` )a2\n",
    "        ON a1.patentid = a2.patent_id) as t1\n",
    "left join `research-311404.PatTV_Construction.first_cpc_category` as t2\n",
    "on t1.patentid =t2.patent_id \n",
    "left join\n",
    "(SELECT patent_id,count(*) as citation_count FROM `research-311404.PatTV_Construction.3_year_uspatentcitation` \n",
    "  group by patent_id) as t3\n",
    "on t1.patent_id = t3.patent_id where group_id is not null) as A \n",
    "left join (select application_year,avg_citation, group_id from `research-311404.PatTV_Construction.avg_3_year_citation_for_each_class_year` where group_id is not null) as B\n",
    "on A.year =B.application_year and A.group_id = B.group_id\n",
    "order by inventor_ID,year\n",
    "\"\"\"\n",
    "job = client.query(sql)  # API request.\n",
    "job.result()\n",
    "\n",
    "table_id = \"research-311404.PatTV_Construction.scaled_citation\"\n",
    "table = client.get_table(table_id)\n",
    "print(\"Table {} now contains {} rows\".format(table_id, table.num_rows))"
   ]
  },
  {
   "cell_type": "code",
   "execution_count": 27,
   "id": "4712d688-f4c7-40bd-8e80-d8ba490d6aa1",
   "metadata": {
    "tags": []
   },
   "outputs": [
    {
     "name": "stdout",
     "output_type": "stream",
     "text": [
      "Table research-311404.PatTV_Construction.scaled_citation now contains 123836902 rows\n"
     ]
    }
   ],
   "source": [
    "sql = \"\"\"\n",
    "Insert `research-311404.PatTV_Construction.scaled_citation`  \n",
    "select A.*,avg_citation, case when avg_citation = 0 then 0 else citation_count/avg_citation end as scaled_citation from (\n",
    "select  inventor_id, t1.patentid, t1.year,t2.group_id,\n",
    "case when citation_count is null then 0 else citation_count end as citation_count\n",
    "from (SELECT * FROM (SELECT patentid,year FROM  `research-311404.AI2Patent_Tree_Consolidated.AI2P_patent_level_min_full`)a1\n",
    "        LEFT JOIN\n",
    "        (SELECT patent_id,inventor_id FROM `patents-public-data.patentsview.patent_inventor` )a2\n",
    "        ON a1.patentid = a2.patent_id) as t1\n",
    "left join`research-311404.PatTV_Construction.first_cpc_category` as t2\n",
    "on t1.patentid =t2.patent_id \n",
    "left join\n",
    "(SELECT patent_id,count(*) as citation_count \n",
    "  FROM `research-311404.PatTV_Construction.3_year_uspatentcitation` \n",
    "  group by patent_id) as t3\n",
    "  on t1.patentid = t3.patent_id\n",
    " where group_id is  null) as A \n",
    "left join (select application_year,avg_citation, group_id from `research-311404.PatTV_Construction.avg_3_year_citation_for_each_class_year` where group_id is null) as B\n",
    "on A.year =B.application_year \n",
    "order by avg_citation\n",
    "\"\"\"\n",
    "job = client.query(sql)  # API request.\n",
    "job.result()\n",
    "\n",
    "table_id = \"research-311404.PatTV_Construction.scaled_citation\"\n",
    "table = client.get_table(table_id)\n",
    "print(\"Table {} now contains {} rows\".format(table_id, table.num_rows))"
   ]
  },
  {
   "cell_type": "code",
   "execution_count": 28,
   "id": "4051656c-96a0-454e-b521-f6da1c814f77",
   "metadata": {
    "tags": []
   },
   "outputs": [
    {
     "name": "stdout",
     "output_type": "stream",
     "text": [
      "Table research-311404.PatTV_Construction.scaled_citation_unique now contains 12512473 rows\n"
     ]
    }
   ],
   "source": [
    "sql = \"\"\"\n",
    "CREATE TABLE\n",
    "  `research-311404.PatTV_Construction.scaled_citation_unique` AS \n",
    "select inventor_id, patentid, year, group_id, citation_count, avg_citation, scaled_citation\n",
    "from `research-311404.PatTV_Construction.scaled_citation`  \n",
    "GROUP BY inventor_id, patentid, year, group_id, citation_count, avg_citation, scaled_citation\n",
    "\"\"\"\n",
    "job = client.query(sql)  # API request.\n",
    "job.result()\n",
    "\n",
    "table_id = \"research-311404.PatTV_Construction.scaled_citation_unique\"\n",
    "table = client.get_table(table_id)\n",
    "print(\"Table {} now contains {} rows\".format(table_id, table.num_rows))"
   ]
  },
  {
   "cell_type": "code",
   "execution_count": 30,
   "id": "5a1737bd-0f8f-4f78-b2ab-b57945cad65d",
   "metadata": {
    "tags": []
   },
   "outputs": [],
   "source": [
    "# 2. PatTV\n",
    "# t gets up to 2015\n",
    "\n",
    "for t in range(34):\n",
    "    start_year = t + 1983\n",
    "    fyear = t + 1982\n",
    "    end_year = t + 1985\n",
    "    sql = f\"\"\"\n",
    "        CREATE TABLE research-311404.temp.PatTV_{end_year}\n",
    "        AS SELECT inventor_id, {fyear} AS fyear,  AVG(citation_count) AS citation_count, AVG(scaled_citation) AS scaled_citation FROM\n",
    "        ((SELECT patentid,year FROM  `research-311404.AI2Patent_Tree_Consolidated.AI2P_patent_level_min_full`)t1\n",
    "        LEFT JOIN\n",
    "        (SELECT patent_id,inventor_id FROM `patents-public-data.patentsview.patent_inventor`)t2\n",
    "        ON t1.patentid = t2.patent_id\n",
    "        LEFT JOIN\n",
    "        (SELECT patentid,citation_count,scaled_citation FROM `research-311404.PatTV_Construction.scaled_citation_unique`)t3\n",
    "        ON t1.patentid = t3.patentid\n",
    "        )WHERE year >= {start_year} and year <= {end_year}\n",
    "        group by inventor_id\n",
    "        \"\"\"\n",
    "\n",
    "    job = client.query(sql)  # API request.\n",
    "    job.result()  # Waits for the query to finish.\n"
   ]
  },
  {
   "cell_type": "code",
   "execution_count": 31,
   "id": "9a05602a-7b8b-4653-87b9-826ca08df379",
   "metadata": {
    "tags": []
   },
   "outputs": [
    {
     "name": "stdout",
     "output_type": "stream",
     "text": [
      "Table research-311404.AI2Patent_Tree_Consolidated.PatTV now contains 14555167 rows\n"
     ]
    }
   ],
   "source": [
    "# Consolidate to a single file\n",
    "sql = \"\"\"\n",
    "        CREATE TABLE research-311404.AI2Patent_Tree_Consolidated.PatTV\n",
    "        AS SELECT * FROM `research-311404.temp.PatTV_*`\n",
    "        \"\"\"\n",
    "\n",
    "job = client.query(sql)  # API request.\n",
    "job.result()\n",
    "table_id = \"research-311404.AI2Patent_Tree_Consolidated.PatTV\"\n",
    "table = client.get_table(table_id)\n",
    "print(\"Table {} now contains {} rows\".format(table_id, table.num_rows))"
   ]
  },
  {
   "cell_type": "code",
   "execution_count": 35,
   "id": "f49dc2b2-3e3f-49b2-8d65-d1023f5b4d7c",
   "metadata": {
    "tags": []
   },
   "outputs": [],
   "source": [
    "# 3. PatNum\n",
    "for t in range(36):\n",
    "    start_year = t + 1983\n",
    "    fyear = t + 1982\n",
    "    end_year = t + 1985\n",
    "    sql = f\"\"\"\n",
    "    CREATE TABLE\n",
    "      research-311404.temp.PatNum_{end_year} AS\n",
    "        SELECT inventor_id, {fyear} AS fyear,  IFNULL(COUNT(patentid),0) AS PatNum FROM \n",
    "            ((SELECT patentid,year FROM `research-311404.AI2Patent_Tree_Consolidated.AI2P_patent_level_min_full`)t1\n",
    "            LEFT JOIN\n",
    "            (SELECT patent_id,inventor_id FROM `patents-public-data.patentsview.patent_inventor`)t2\n",
    "            ON t1.patentid = t2.patent_id)\n",
    "            WHERE year >= {start_year} and year <= {end_year}\n",
    "            group by inventor_id\n",
    "    \"\"\"\n",
    "    job = client.query(sql)  # API request.\n",
    "    job.result()"
   ]
  },
  {
   "cell_type": "code",
   "execution_count": 36,
   "id": "4fa8685f-e818-412f-a14d-c7953d9cb112",
   "metadata": {
    "tags": []
   },
   "outputs": [
    {
     "name": "stdout",
     "output_type": "stream",
     "text": [
      "Table research-311404.AI2Patent_Tree_Consolidated.PatNum now contains 15755250 rows\n"
     ]
    }
   ],
   "source": [
    "# Consolidate to a single file\n",
    "sql = \"\"\"\n",
    "        CREATE TABLE research-311404.AI2Patent_Tree_Consolidated.PatNum\n",
    "        AS SELECT * FROM `research-311404.temp.PatNum_*`\n",
    "        \"\"\"\n",
    "\n",
    "job = client.query(sql)  # API request.\n",
    "job.result()\n",
    "table_id = \"research-311404.AI2Patent_Tree_Consolidated.PatNum\"\n",
    "table = client.get_table(table_id)\n",
    "print(\"Table {} now contains {} rows\".format(table_id, table.num_rows))"
   ]
  },
  {
   "cell_type": "code",
   "execution_count": null,
   "id": "b1b1b03b-d25b-4136-8fbd-29790302e065",
   "metadata": {},
   "outputs": [],
   "source": []
  }
 ],
 "metadata": {
  "environment": {
   "kernel": "conda-root-py",
   "name": "workbench-notebooks.m113",
   "type": "gcloud",
   "uri": "gcr.io/deeplearning-platform-release/workbench-notebooks:m113"
  },
  "kernelspec": {
   "display_name": "Python 3 (ipykernel) (Local)",
   "language": "python",
   "name": "conda-root-py"
  },
  "language_info": {
   "codemirror_mode": {
    "name": "ipython",
    "version": 3
   },
   "file_extension": ".py",
   "mimetype": "text/x-python",
   "name": "python",
   "nbconvert_exporter": "python",
   "pygments_lexer": "ipython3",
   "version": "3.10.13"
  }
 },
 "nbformat": 4,
 "nbformat_minor": 5
}
