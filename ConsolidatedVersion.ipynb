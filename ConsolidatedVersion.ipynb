{
 "cells": [
  {
   "cell_type": "markdown",
   "id": "32f49ff9-d4b2-4fbf-a25b-9755bcaa7fd5",
   "metadata": {},
   "source": [
    "# This is a consolidated version of all the data\n"
   ]
  },
  {
   "cell_type": "code",
   "execution_count": 6,
   "id": "417b7c7c-14f2-4d11-ba08-360fd6021cfe",
   "metadata": {
    "tags": []
   },
   "outputs": [
    {
     "name": "stdout",
     "output_type": "stream",
     "text": [
      "Client creating using default project: research-311404\n"
     ]
    }
   ],
   "source": [
    "import base64\n",
    "import datetime\n",
    "import pandas as pd\n",
    "import json\n",
    "from google.cloud import bigquery\n",
    "\n",
    "client = bigquery.Client(location=\"US\")\n",
    "print(\"Client creating using default project: {}\".format(client.project))"
   ]
  },
  {
   "cell_type": "markdown",
   "id": "89e78efd-7da6-4546-b5fd-8ab3dd7e8f77",
   "metadata": {},
   "source": [
    "**AI2P data is suuposed to be 'good'**\n",
    "\n",
    "\n",
    " So check a three-year inventory on the D data\n",
    " This time, put the adjusted D data in there as well"
   ]
  },
  {
   "cell_type": "code",
   "execution_count": 7,
   "id": "4f925447-7ec5-44d6-a1f0-662365de7fa5",
   "metadata": {
    "tags": []
   },
   "outputs": [
    {
     "data": {
      "text/plain": [
       "<google.cloud.bigquery.table._EmptyRowIterator at 0x7fed82a7ff10>"
      ]
     },
     "execution_count": 7,
     "metadata": {},
     "output_type": "execute_result"
    }
   ],
   "source": [
    "#this dataset: research-311404.AI2Patent_TreeConstruction_202308.AI2P_w_paper_full_inversed\n",
    "# Used the full AI2P Tree and appended paper data\n",
    "sql = \"\"\"\n",
    "        CREATE TABLE research-311404.AI2Patent_Tree_Consolidated.AI2P_patent_level_min_full\n",
    "        AS SELECT patentid,year,  inverse_D, (SUM(D_Cf)/NULLIF(SUM(C_f),0)) AS D_Cf, (SUM(D_Hit)/NULLIF(SUM(Hit_10pct),0)) AS D_Hit, (SUM(D_Disruption)/NULLIF(SUM(Disruption),0)) AS D_Disruption, (SUM(D_Exposure)/NULLIF(SUM(Exposure),0)) AS D_Exposure, (SUM(D_time)/NULLIF(SUM(Timelag_inv),0)) AS D_time FROM  `research-311404.AI2Patent_TreeConstruction_202308.AI2P_w_paper_full_inversed`\n",
    "\n",
    "        group by patentid,year,inverse_D\n",
    "        \"\"\"\n",
    "\n",
    "job = client.query(sql)  # API request.\n",
    "job.result()  # Waits for the query to finish."
   ]
  },
  {
   "cell_type": "code",
   "execution_count": 9,
   "id": "b4edf323-6d7b-41a0-8b72-dad66b10380e",
   "metadata": {},
   "outputs": [],
   "source": [
    "# AI2P dataset contains from year 1980-2021. Therefore to have available data from t-3 to t+3, \n",
    "# we need to construct year-level data (t) ranging from 1983 to 2017\n",
    "# Construting AI2P SCORE\n",
    "# D values are calculated on the average of the pre-three year patent inventory\n",
    "for i in range(35):\n",
    "    start_year = i + 1980\n",
    "    end_year = i + 1983\n",
    "    sql = f\"\"\"\n",
    "        CREATE TABLE research-311404.temp.AI2P_{end_year}\n",
    "        AS SELECT inventor_id, {end_year} AS fyear,  AVG(inverse_D) AS inverse_D, AVG(D_Cf) AS D_Cf, AVG(D_Hit) AS D_Hit, AVG(D_Disruption) AS D_Disruption, AVG(D_Exposure) AS D_Exposure ,AVG(D_time)  AS  D_time FROM\n",
    "        ((SELECT patentid,year,  inverse_D, D_Cf, D_Hit, D_Disruption, D_Exposure,D_time FROM  `research-311404.AI2Patent_Tree_Consolidated.AI2P_patent_level_min_full`)t1\n",
    "        LEFT JOIN\n",
    "        (SELECT patent_id,inventor_id FROM `patents-public-data.patentsview.patent_inventor` )t2\n",
    "        ON t1.patentid = t2.patent_id\n",
    "        )WHERE year >= {start_year} and year <= {end_year}\n",
    "        group by inventor_id\n",
    "        \"\"\"\n",
    "\n",
    "    job = client.query(sql)  # API request.\n",
    "    job.result()  # Waits for the query to finish.\n"
   ]
  },
  {
   "cell_type": "code",
   "execution_count": 11,
   "id": "63106daf-9cd4-467e-af75-863815e9d95a",
   "metadata": {
    "tags": []
   },
   "outputs": [
    {
     "data": {
      "text/plain": [
       "<google.cloud.bigquery.table._EmptyRowIterator at 0x7fed82223dc0>"
      ]
     },
     "execution_count": 11,
     "metadata": {},
     "output_type": "execute_result"
    }
   ],
   "source": [
    "# Consolidate to a single file\n",
    "sql = \"\"\"\n",
    "        CREATE TABLE research-311404.AI2Patent_Tree_Consolidated.AI2P\n",
    "        AS SELECT * FROM `research-311404.temp.AI2P_*`\n",
    "        \"\"\"\n",
    "\n",
    "job = client.query(sql)  # API request.\n",
    "job.result()"
   ]
  },
  {
   "cell_type": "code",
   "execution_count": null,
   "id": "264a7565-cffa-49a7-9073-bfab20213a6f",
   "metadata": {},
   "outputs": [],
   "source": [
    "# The respective examiner toughness metric should also be constructed here\n",
    "# We use this table: research-311404.Examiner_toughness_by_date.examiner_table_fillna\n",
    "# Limited by OCE PAIR dataset: 9,817,693 application_number-examiner pairs\n",
    "# 9,739,630 not Null examiner names\n",
    "# \n",
    "# This table contains count information for all "
   ]
  },
  {
   "cell_type": "code",
   "execution_count": null,
   "id": "d4805145-1ee3-47af-9a1f-31b3ad9269cf",
   "metadata": {},
   "outputs": [],
   "source": [
    "# Construting Dependent variables: They should be three years looking forward: \n",
    "# D values are calculated on the average of the pre-three year patent inventory"
   ]
  }
 ],
 "metadata": {
  "environment": {
   "kernel": "conda-root-py",
   "name": "workbench-notebooks.m113",
   "type": "gcloud",
   "uri": "gcr.io/deeplearning-platform-release/workbench-notebooks:m113"
  },
  "kernelspec": {
   "display_name": "Python 3 (ipykernel) (Local)",
   "language": "python",
   "name": "conda-root-py"
  },
  "language_info": {
   "codemirror_mode": {
    "name": "ipython",
    "version": 3
   },
   "file_extension": ".py",
   "mimetype": "text/x-python",
   "name": "python",
   "nbconvert_exporter": "python",
   "pygments_lexer": "ipython3",
   "version": "3.10.13"
  }
 },
 "nbformat": 4,
 "nbformat_minor": 5
}
