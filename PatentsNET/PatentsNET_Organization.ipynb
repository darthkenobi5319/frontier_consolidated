{
 "cells": [
  {
   "cell_type": "code",
   "execution_count": 1,
   "id": "3901c89c-ed7f-4a01-bdbb-b2c4d5499ef8",
   "metadata": {
    "tags": []
   },
   "outputs": [
    {
     "name": "stdout",
     "output_type": "stream",
     "text": [
      "Client creating using default project: research-311404\n"
     ]
    }
   ],
   "source": [
    "import base64\n",
    "import datetime\n",
    "import pandas as pd\n",
    "import json\n",
    "from google.cloud import bigquery\n",
    "\n",
    "client = bigquery.Client(location=\"US\")\n",
    "print(\"Client creating using default project: {}\".format(client.project))"
   ]
  },
  {
   "cell_type": "code",
   "execution_count": 2,
   "id": "7810053c-e989-4512-b057-0e25a201d711",
   "metadata": {
    "tags": []
   },
   "outputs": [
    {
     "data": {
      "text/html": [
       "<div>\n",
       "<style scoped>\n",
       "    .dataframe tbody tr th:only-of-type {\n",
       "        vertical-align: middle;\n",
       "    }\n",
       "\n",
       "    .dataframe tbody tr th {\n",
       "        vertical-align: top;\n",
       "    }\n",
       "\n",
       "    .dataframe thead th {\n",
       "        text-align: right;\n",
       "    }\n",
       "</style>\n",
       "<table border=\"1\" class=\"dataframe\">\n",
       "  <thead>\n",
       "    <tr style=\"text-align: right;\">\n",
       "      <th></th>\n",
       "      <th>patent_id</th>\n",
       "      <th>assignee_sequence</th>\n",
       "      <th>assignee_id</th>\n",
       "      <th>disambig_assignee_individual_name_first</th>\n",
       "      <th>disambig_assignee_individual_name_last</th>\n",
       "      <th>disambig_assignee_organization</th>\n",
       "      <th>assignee_type</th>\n",
       "      <th>location_id</th>\n",
       "    </tr>\n",
       "  </thead>\n",
       "  <tbody>\n",
       "    <tr>\n",
       "      <th>0</th>\n",
       "      <td>4488683</td>\n",
       "      <td>0</td>\n",
       "      <td>b942050d-150f-42e4-83d4-a7cde0870f82</td>\n",
       "      <td>NaN</td>\n",
       "      <td>NaN</td>\n",
       "      <td>Metal Works Ramat David</td>\n",
       "      <td>3.0</td>\n",
       "      <td>50dc5d46-16c8-11ed-9b5f-1234bde3cd05</td>\n",
       "    </tr>\n",
       "    <tr>\n",
       "      <th>1</th>\n",
       "      <td>5856666</td>\n",
       "      <td>0</td>\n",
       "      <td>dd8cd1db-a0f0-4b3b-ba4a-25038814e332</td>\n",
       "      <td>NaN</td>\n",
       "      <td>NaN</td>\n",
       "      <td>U.S. Philips Corporation</td>\n",
       "      <td>2.0</td>\n",
       "      <td>92237ca2-16c8-11ed-9b5f-1234bde3cd05</td>\n",
       "    </tr>\n",
       "    <tr>\n",
       "      <th>2</th>\n",
       "      <td>5204210</td>\n",
       "      <td>0</td>\n",
       "      <td>8d18afca-9c87-4e93-acd9-db539730dc3b</td>\n",
       "      <td>NaN</td>\n",
       "      <td>NaN</td>\n",
       "      <td>Xerox Corporation</td>\n",
       "      <td>2.0</td>\n",
       "      <td>0cd1998f-16c8-11ed-9b5f-1234bde3cd05</td>\n",
       "    </tr>\n",
       "    <tr>\n",
       "      <th>3</th>\n",
       "      <td>5302149</td>\n",
       "      <td>1</td>\n",
       "      <td>add68f05-55da-4cd8-9c3a-85d2cf1e1798</td>\n",
       "      <td>NaN</td>\n",
       "      <td>NaN</td>\n",
       "      <td>COMMONWEALTH SCIENTIFIC AND INDUSTRIAL RESEARC...</td>\n",
       "      <td>3.0</td>\n",
       "      <td>4d36742f-16c8-11ed-9b5f-1234bde3cd05</td>\n",
       "    </tr>\n",
       "    <tr>\n",
       "      <th>4</th>\n",
       "      <td>D397841</td>\n",
       "      <td>0</td>\n",
       "      <td>a8173451-b1cb-4071-bf4f-b844df2703a7</td>\n",
       "      <td>NaN</td>\n",
       "      <td>NaN</td>\n",
       "      <td>adidas AG</td>\n",
       "      <td>3.0</td>\n",
       "      <td>280c9de4-16c8-11ed-9b5f-1234bde3cd05</td>\n",
       "    </tr>\n",
       "  </tbody>\n",
       "</table>\n",
       "</div>"
      ],
      "text/plain": [
       "  patent_id  assignee_sequence                           assignee_id  \\\n",
       "0   4488683                  0  b942050d-150f-42e4-83d4-a7cde0870f82   \n",
       "1   5856666                  0  dd8cd1db-a0f0-4b3b-ba4a-25038814e332   \n",
       "2   5204210                  0  8d18afca-9c87-4e93-acd9-db539730dc3b   \n",
       "3   5302149                  1  add68f05-55da-4cd8-9c3a-85d2cf1e1798   \n",
       "4   D397841                  0  a8173451-b1cb-4071-bf4f-b844df2703a7   \n",
       "\n",
       "  disambig_assignee_individual_name_first  \\\n",
       "0                                     NaN   \n",
       "1                                     NaN   \n",
       "2                                     NaN   \n",
       "3                                     NaN   \n",
       "4                                     NaN   \n",
       "\n",
       "  disambig_assignee_individual_name_last  \\\n",
       "0                                    NaN   \n",
       "1                                    NaN   \n",
       "2                                    NaN   \n",
       "3                                    NaN   \n",
       "4                                    NaN   \n",
       "\n",
       "                      disambig_assignee_organization  assignee_type  \\\n",
       "0                            Metal Works Ramat David            3.0   \n",
       "1                           U.S. Philips Corporation            2.0   \n",
       "2                                  Xerox Corporation            2.0   \n",
       "3  COMMONWEALTH SCIENTIFIC AND INDUSTRIAL RESEARC...            3.0   \n",
       "4                                          adidas AG            3.0   \n",
       "\n",
       "                            location_id  \n",
       "0  50dc5d46-16c8-11ed-9b5f-1234bde3cd05  \n",
       "1  92237ca2-16c8-11ed-9b5f-1234bde3cd05  \n",
       "2  0cd1998f-16c8-11ed-9b5f-1234bde3cd05  \n",
       "3  4d36742f-16c8-11ed-9b5f-1234bde3cd05  \n",
       "4  280c9de4-16c8-11ed-9b5f-1234bde3cd05  "
      ]
     },
     "execution_count": 2,
     "metadata": {},
     "output_type": "execute_result"
    }
   ],
   "source": [
    "## process the assignee dataset\n",
    "import pandas as pd\n",
    "import numpy as np\n",
    "assignee= pd.read_csv('g_assignee_disambiguated.tsv', sep='\\t')\n",
    "assignee.head()"
   ]
  },
  {
   "cell_type": "code",
   "execution_count": 5,
   "id": "e2e3f7fa-f3d1-44a3-95d5-c9c56feb7627",
   "metadata": {},
   "outputs": [
    {
     "name": "stdout",
     "output_type": "stream",
     "text": [
      "Loaded dataframe to /projects/research-311404/datasets/temp/tables/assignee\n"
     ]
    }
   ],
   "source": [
    "assignee = assignee[['patent_id','assignee_type']]\n",
    "dataset = client.get_dataset('research-311404.temp')  # API request\n",
    "table_ref = dataset.table('assignee')\n",
    "job = client.load_table_from_dataframe(assignee, table_ref, location=\"US\")\n",
    "job.result()  # Waits for table load to complete.\n",
    "print(\"Loaded dataframe to {}\".format(table_ref.path))"
   ]
  },
  {
   "cell_type": "markdown",
   "id": "b96a2f93-1661-47c1-88e2-d44f77e279ff",
   "metadata": {},
   "source": [
    "classification of assignee (1 - Unassigned, 2 - US Company or Corporation, 3 - Foreign Company or Corporation, 4 - US Individual, 5 - Foreign Individual, 6 - US Federal Government, 7 - Foreign Government, 8 - US County Government, 9 - US State Government. Note: A \"1\" appearing before any of these codes signifies part interest"
   ]
  },
  {
   "cell_type": "code",
   "execution_count": 2,
   "id": "bd7d0e48-ca01-4465-85db-5d53edb3e6ea",
   "metadata": {
    "tags": []
   },
   "outputs": [
    {
     "name": "stdout",
     "output_type": "stream",
     "text": [
      "Table research-311404.patent_GNN_Data.assignee_full_data now contains 7572670 rows\n"
     ]
    }
   ],
   "source": [
    "sql = \"\"\"\n",
    "        CREATE TABLE research-311404.patent_GNN_Data.assignee_full_data\n",
    "        AS \n",
    "        SELECT patent_id, MAX(CASE WHEN assignee_type = 2 OR assignee_type = 3 OR\n",
    "        assignee_type = 12 OR assignee_type = 13 \n",
    "        THEN 1 ELSE 0 END) AS with_company,\n",
    "        MAX(CASE WHEN assignee_type = 4 OR assignee_type = 5\n",
    "            OR assignee_type = 14 OR assignee_type = 15 THEN 1 ELSE 0 END) AS individual,\n",
    "        MAX(CASE WHEN assignee_type = 6 OR assignee_type = 7 OR assignee_type = 8 OR assignee_type = 9\n",
    "            OR assignee_type = 16 OR assignee_type = 17 OR assignee_type = 18 OR assignee_type = 19\n",
    "        THEN 1 ELSE 0 END) AS with_government\n",
    "        FROM `research-311404.temp.assignee` GROUP BY patent_id\n",
    "        \n",
    "        \"\"\"\n",
    "\n",
    "job = client.query(sql)  # API request.\n",
    "job.result()  # Waits for the query to finish.\n",
    "table_id = \"research-311404.patent_GNN_Data.assignee_full_data\"\n",
    "table = client.get_table(table_id)\n",
    "print(\"Table {} now contains {} rows\".format(table_id, table.num_rows))"
   ]
  },
  {
   "cell_type": "code",
   "execution_count": null,
   "id": "28e85f2e-32ed-43d7-818e-fe3e38ae27ef",
   "metadata": {},
   "outputs": [],
   "source": []
  }
 ],
 "metadata": {
  "environment": {
   "kernel": "conda-root-py",
   "name": "workbench-notebooks.m113",
   "type": "gcloud",
   "uri": "gcr.io/deeplearning-platform-release/workbench-notebooks:m113"
  },
  "kernelspec": {
   "display_name": "Python 3 (ipykernel) (Local)",
   "language": "python",
   "name": "conda-root-py"
  },
  "language_info": {
   "codemirror_mode": {
    "name": "ipython",
    "version": 3
   },
   "file_extension": ".py",
   "mimetype": "text/x-python",
   "name": "python",
   "nbconvert_exporter": "python",
   "pygments_lexer": "ipython3",
   "version": "3.10.13"
  }
 },
 "nbformat": 4,
 "nbformat_minor": 5
}
