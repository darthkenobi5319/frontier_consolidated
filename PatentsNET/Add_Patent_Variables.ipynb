{
 "cells": [
  {
   "cell_type": "code",
   "execution_count": 1,
   "id": "aa6d41b9-b968-4af8-bf54-fda2484a1e46",
   "metadata": {
    "tags": []
   },
   "outputs": [
    {
     "name": "stdout",
     "output_type": "stream",
     "text": [
      "Client creating using default project: research-311404\n"
     ]
    }
   ],
   "source": [
    "import base64\n",
    "import datetime\n",
    "import pandas as pd\n",
    "import json\n",
    "from google.cloud import bigquery\n",
    "\n",
    "client = bigquery.Client(location=\"US\")\n",
    "print(\"Client creating using default project: {}\".format(client.project))"
   ]
  },
  {
   "cell_type": "code",
   "execution_count": null,
   "id": "d6b11f8f-83bc-4e74-bce3-a8343b277f3e",
   "metadata": {},
   "outputs": [],
   "source": []
  },
  {
   "cell_type": "code",
   "execution_count": 4,
   "id": "77b46170-2d6a-4b1a-9df7-f0dd7b4edbf7",
   "metadata": {
    "tags": []
   },
   "outputs": [
    {
     "data": {
      "text/plain": [
       "<google.cloud.bigquery.table._EmptyRowIterator at 0x7eff33c8e950>"
      ]
     },
     "execution_count": 4,
     "metadata": {},
     "output_type": "execute_result"
    }
   ],
   "source": [
    "#step 1\n",
    "# 每个专利的TV为该专利在授权后3年内的引用数目/该专利申请当年同一类专利在未来3年的引用量的平均\n",
    "sql = \"\"\"\n",
    "CREATE TABLE\n",
    "  `research-311404.Patent_Litigation_Patent_Variables.first_cpc_category` AS\n",
    "SELECT * from(\n",
    "SELECT *, ROW_NUMBER() OVER(PARTITION BY patent_id ORDER BY sequence) AS row_number\n",
    "    from (\n",
    "SELECT patent_id,subsection_id, group_id,sequence \n",
    "FROM `patents-public-data.patentsview.cpc_current` \n",
    "where category = \"inventional\"\n",
    "order by patent_id,sequence)) \n",
    "WHERE row_number = 1\n",
    "\"\"\"\n",
    "job = client.query(sql)  # API request.\n",
    "job.result()"
   ]
  },
  {
   "cell_type": "code",
   "execution_count": 7,
   "id": "69673ddb-e57d-4e4d-9470-eb7faa1bb3a4",
   "metadata": {
    "tags": []
   },
   "outputs": [
    {
     "data": {
      "text/plain": [
       "<google.cloud.bigquery.table._EmptyRowIterator at 0x7eff3311e2f0>"
      ]
     },
     "execution_count": 7,
     "metadata": {},
     "output_type": "execute_result"
    }
   ],
   "source": [
    "#step 2\n",
    "sql = \"\"\"\n",
    "CREATE TABLE\n",
    "  `research-311404.Patent_Litigation_Patent_Variables.application` AS\n",
    "select * from (SELECT t1.patent_id,cast (substr(date,1,4) as int64) as application_year, \n",
    "extract(date from DATETIME(cast(substr(t1.date, 0,4) as int64) , cast(substr(t1.date, 6,2) as int64),1,1,1,1)) as application_month, \n",
    "subsection_id, group_id,  \n",
    "FROM `patents-public-data.patentsview.application` as t1\n",
    "left join `research-311404.Patent_Litigation_Patent_Variables.first_cpc_category` as t2\n",
    "on t1.patent_id=t2.patent_id\n",
    "where country = \"US\") where application_year<=2024 and application_year>=1970\n",
    "order by application_year\n",
    "\"\"\"\n",
    "job = client.query(sql)  # API request.\n",
    "job.result()"
   ]
  },
  {
   "cell_type": "code",
   "execution_count": 11,
   "id": "1b82ecca-f7cb-41c5-81b5-a09caea832d6",
   "metadata": {
    "tags": []
   },
   "outputs": [
    {
     "data": {
      "text/plain": [
       "<google.cloud.bigquery.table._EmptyRowIterator at 0x7eff32a216f0>"
      ]
     },
     "execution_count": 11,
     "metadata": {},
     "output_type": "execute_result"
    }
   ],
   "source": [
    "#step 3 -->部分专利没有cpc类别，group_id为空\n",
    "sql = \"\"\"\n",
    "CREATE TABLE\n",
    "  `research-311404.Patent_Litigation_Patent_Variables.3_year_uspatentcitation` AS\n",
    "select * from (select *, \n",
    "date_diff(citation_application_month,patent_grant_month, month) as month_diff\n",
    " from (select t1.patent_id, t1.application_year, subsection_id, group_id, application_month,t3.patent_id as citation_id,\n",
    "extract(date from DATETIME(cast(substr(t2.date, 0,4) as int64) , cast(substr(t2.date, 6,2) as int64),1,1,1,1)) as patent_grant_month,\n",
    "extract(date from DATETIME(cast(substr(t3.date, 0,4) as int64) , cast(substr(t3.date, 6,2) as int64),1,1,1,1)) as citation_application_month\n",
    "from `research-311404.Patent_Litigation_Patent_Variables.application` as t1\n",
    "join (select * from `patents-public-data.patentsview.uspatentcitation` where cast(substr(date,1,4) as int64) >= 1000) as t2\n",
    "on t1.patent_id=t2.citation_id\n",
    "join (select * from `patents-public-data.patentsview.application` where cast(substr(date,1,4) as int64) >= 1000) as t3\n",
    "on t2.patent_id = t3.patent_id))\n",
    "where month_diff <=3*12 and month_diff>=0\n",
    "order by patent_id\n",
    "\"\"\"\n",
    "job = client.query(sql)  # API request.\n",
    "job.result()"
   ]
  },
  {
   "cell_type": "code",
   "execution_count": 13,
   "id": "31980fd4-2cb0-48ac-bca2-52ed45373114",
   "metadata": {
    "tags": []
   },
   "outputs": [
    {
     "name": "stdout",
     "output_type": "stream",
     "text": [
      "Table research-311404.Patent_Litigation_Patent_Variables.avg_3_year_citation_for_each_class_year now contains 30121 rows\n"
     ]
    }
   ],
   "source": [
    "#step 4 -->把空的cpc都归为了一类，计算平均citation数量\n",
    "sql = \"\"\"\n",
    "CREATE TABLE\n",
    "  `research-311404.Patent_Litigation_Patent_Variables.avg_3_year_citation_for_each_class_year` AS\n",
    "select group_id, application_year,avg(citation_num) as avg_citation from\n",
    "(select t1.patent_id, t1.subsection_id, t1.group_id,t1.application_year,\n",
    "case when citation_num is null then 0 else citation_num end as citation_num\n",
    "from `research-311404.Patent_Litigation_Patent_Variables.application` as t1\n",
    "left join  \n",
    "(select patent_id, count(citation_id) as citation_num from\n",
    "`research-311404.Patent_Litigation_Patent_Variables.3_year_uspatentcitation`\n",
    "group by patent_id) as t2\n",
    "on t1.patent_id=t2.patent_id) group by group_id,application_year\n",
    "order by application_year\n",
    "\"\"\"\n",
    "job = client.query(sql)  # API request.\n",
    "job.result()\n",
    "\n",
    "table_id = \"research-311404.Patent_Litigation_Patent_Variables.avg_3_year_citation_for_each_class_year\"\n",
    "table = client.get_table(table_id)\n",
    "print(\"Table {} now contains {} rows\".format(table_id, table.num_rows))"
   ]
  },
  {
   "cell_type": "code",
   "execution_count": 25,
   "id": "a804396d-966b-46f7-ba0d-dcb44bafd7d5",
   "metadata": {
    "tags": []
   },
   "outputs": [
    {
     "name": "stdout",
     "output_type": "stream",
     "text": [
      "Table research-311404.Patent_Litigation_Patent_Variables.scaled_citation_general now contains 4109 rows\n"
     ]
    }
   ],
   "source": [
    "# Construct forward citation: include scaled and non-scaled\n",
    "\n",
    "sql = \"\"\"\n",
    "CREATE TABLE\n",
    "  `research-311404.Patent_Litigation_Patent_Variables.scaled_citation_general` AS\n",
    "select A.*,avg_citation, case when avg_citation = 0 then 0 else citation_count/avg_citation end as scaled_citation from (\n",
    "select t1.*,t2.group_id,t3.application_year,\n",
    "case when citation_count is null then 0 else citation_count end as citation_count\n",
    "from (SELECT * FROM  `research-311404.Patent_Litigation.dataset_general_litigation_dataset`) as t1\n",
    "left join `research-311404.Patent_Litigation_Patent_Variables.first_cpc_category` as t2\n",
    "on t1.patent_id =t2.patent_id \n",
    "left join\n",
    "(SELECT patent_id,application_year,count(*) as citation_count FROM `research-311404.Patent_Litigation_Patent_Variables.3_year_uspatentcitation` \n",
    "  group by patent_id,application_year) as t3\n",
    "on t1.patent_id = t3.patent_id) as A \n",
    "left join (select application_year,avg_citation, group_id from `research-311404.Patent_Litigation_Patent_Variables.avg_3_year_citation_for_each_class_year` where group_id is not null) as B\n",
    "on A.application_year =B.application_year and A.group_id = B.group_id\n",
    "\n",
    "\"\"\"\n",
    "job = client.query(sql)  # API request.\n",
    "job.result()\n",
    "\n",
    "table_id = \"research-311404.Patent_Litigation_Patent_Variables.scaled_citation_general\"\n",
    "table = client.get_table(table_id)\n",
    "print(\"Table {} now contains {} rows\".format(table_id, table.num_rows))"
   ]
  },
  {
   "cell_type": "code",
   "execution_count": 26,
   "id": "e7971489-52d5-4c0b-90ed-8ce3ab7b0975",
   "metadata": {
    "tags": []
   },
   "outputs": [
    {
     "name": "stdout",
     "output_type": "stream",
     "text": [
      "Table research-311404.Patent_Litigation_Patent_Variables.scaled_citation_PAE now contains 2101 rows\n"
     ]
    }
   ],
   "source": [
    "# Construct forward citation: include scaled and non-scaled\n",
    "\n",
    "sql = \"\"\"\n",
    "CREATE TABLE\n",
    "  `research-311404.Patent_Litigation_Patent_Variables.scaled_citation_PAE` AS\n",
    "select A.*,avg_citation, case when avg_citation = 0 then 0 else citation_count/avg_citation end as scaled_citation from (\n",
    "select t1.*,t2.group_id,t3.application_year,\n",
    "case when citation_count is null then 0 else citation_count end as citation_count\n",
    "from (SELECT * FROM  `research-311404.Patent_Litigation.dataset_litigation_PAE`) as t1\n",
    "left join `research-311404.Patent_Litigation_Patent_Variables.first_cpc_category` as t2\n",
    "on t1.patent_id =t2.patent_id \n",
    "left join\n",
    "(SELECT patent_id,application_year,count(*) as citation_count FROM `research-311404.Patent_Litigation_Patent_Variables.3_year_uspatentcitation` \n",
    "  group by patent_id,application_year) as t3\n",
    "on t1.patent_id = t3.patent_id) as A \n",
    "left join (select application_year,avg_citation, group_id from `research-311404.Patent_Litigation_Patent_Variables.avg_3_year_citation_for_each_class_year` where group_id is not null) as B\n",
    "on A.application_year =B.application_year and A.group_id = B.group_id\n",
    "\n",
    "\"\"\"\n",
    "job = client.query(sql)  # API request.\n",
    "job.result()\n",
    "\n",
    "table_id = \"research-311404.Patent_Litigation_Patent_Variables.scaled_citation_PAE\"\n",
    "table = client.get_table(table_id)\n",
    "print(\"Table {} now contains {} rows\".format(table_id, table.num_rows))"
   ]
  },
  {
   "cell_type": "code",
   "execution_count": 27,
   "id": "f44aa3ce-458f-402e-ac30-3097cd0b3f4c",
   "metadata": {
    "tags": []
   },
   "outputs": [
    {
     "name": "stdout",
     "output_type": "stream",
     "text": [
      "Table research-311404.Patent_Litigation_Patent_Variables.scaled_citation_PE now contains 2530 rows\n"
     ]
    }
   ],
   "source": [
    "# Construct forward citation: include scaled and non-scaled\n",
    "\n",
    "sql = \"\"\"\n",
    "CREATE TABLE\n",
    "  `research-311404.Patent_Litigation_Patent_Variables.scaled_citation_PE` AS\n",
    "select A.*,avg_citation, case when avg_citation = 0 then 0 else citation_count/avg_citation end as scaled_citation from (\n",
    "select t1.*,t2.group_id,t3.application_year,\n",
    "case when citation_count is null then 0 else citation_count end as citation_count\n",
    "from (SELECT * FROM  `research-311404.Patent_Litigation.dataset_litigation_output_PE`) as t1\n",
    "left join `research-311404.Patent_Litigation_Patent_Variables.first_cpc_category` as t2\n",
    "on t1.patent_id =t2.patent_id \n",
    "left join\n",
    "(SELECT patent_id,application_year,count(*) as citation_count FROM `research-311404.Patent_Litigation_Patent_Variables.3_year_uspatentcitation` \n",
    "  group by patent_id,application_year) as t3\n",
    "on t1.patent_id = t3.patent_id) as A \n",
    "left join (select application_year,avg_citation, group_id from `research-311404.Patent_Litigation_Patent_Variables.avg_3_year_citation_for_each_class_year` where group_id is not null) as B\n",
    "on A.application_year =B.application_year and A.group_id = B.group_id\n",
    "\n",
    "\"\"\"\n",
    "job = client.query(sql)  # API request.\n",
    "job.result()\n",
    "\n",
    "table_id = \"research-311404.Patent_Litigation_Patent_Variables.scaled_citation_PE\"\n",
    "table = client.get_table(table_id)\n",
    "print(\"Table {} now contains {} rows\".format(table_id, table.num_rows))"
   ]
  },
  {
   "cell_type": "code",
   "execution_count": 30,
   "id": "b629a163-ccfe-4a88-a980-43b43986c0c2",
   "metadata": {
    "tags": []
   },
   "outputs": [
    {
     "name": "stdout",
     "output_type": "stream",
     "text": [
      "Table research-311404.Patent_Litigation_Patent_Variables.backward_paper_citation_general now contains 4109 rows\n",
      "Table research-311404.Patent_Litigation_Patent_Variables.backward_paper_citation_PAE now contains 2101 rows\n",
      "Table research-311404.Patent_Litigation_Patent_Variables.backward_paper_citation_PE now contains 2101 rows\n"
     ]
    }
   ],
   "source": [
    "# Backward Citation\n",
    "# Paperwise\n",
    "\n",
    "sql = \"\"\"\n",
    "CREATE TABLE\n",
    "  `research-311404.Patent_Litigation_Patent_Variables.backward_paper_citation_general` AS\n",
    "select t1.*,\n",
    "case when backward_paper_citation is null then 0 else backward_paper_citation end as backward_paper_citation\n",
    "from (SELECT * FROM  `research-311404.Patent_Litigation_Patent_Variables.scaled_citation_general`) as t1\n",
    "left join (SELECT PatentID,COUNT(PaperID) AS backward_paper_citation FROM `research-311404.SciSciNet.paper_patent` \n",
    "GROUP BY PatentID) as t2 \n",
    "on t1.patent_id =t2.PatentID\n",
    "\n",
    "\n",
    "\"\"\"\n",
    "job = client.query(sql)  # API request.\n",
    "job.result()\n",
    "\n",
    "\n",
    "table_id = \"research-311404.Patent_Litigation_Patent_Variables.backward_paper_citation_general\"\n",
    "table = client.get_table(table_id)\n",
    "print(\"Table {} now contains {} rows\".format(table_id, table.num_rows))\n",
    "\n",
    "\n",
    "sql = \"\"\"\n",
    "CREATE TABLE\n",
    "  `research-311404.Patent_Litigation_Patent_Variables.backward_paper_citation_PAE` AS\n",
    "select t1.*,\n",
    "case when backward_paper_citation is null then 0 else backward_paper_citation end as backward_paper_citation\n",
    "from (SELECT * FROM `research-311404.Patent_Litigation_Patent_Variables.scaled_citation_PAE`) as t1\n",
    "left join (SELECT PatentID,COUNT(PaperID) AS backward_paper_citation FROM `research-311404.SciSciNet.paper_patent` \n",
    "GROUP BY PatentID) as t2 \n",
    "on t1.patent_id =t2.PatentID\n",
    "\n",
    "\n",
    "\"\"\"\n",
    "job = client.query(sql)  # API request.\n",
    "job.result()\n",
    "\n",
    "\n",
    "table_id = \"research-311404.Patent_Litigation_Patent_Variables.backward_paper_citation_PAE\"\n",
    "table = client.get_table(table_id)\n",
    "print(\"Table {} now contains {} rows\".format(table_id, table.num_rows))\n",
    "\n",
    "sql = \"\"\"\n",
    "CREATE TABLE\n",
    "  `research-311404.Patent_Litigation_Patent_Variables.backward_paper_citation_PE` AS\n",
    "select t1.*,\n",
    "case when backward_paper_citation is null then 0 else backward_paper_citation end as backward_paper_citation\n",
    "from (SELECT * FROM `research-311404.Patent_Litigation_Patent_Variables.scaled_citation_PAE`) as t1\n",
    "left join (SELECT PatentID,COUNT(PaperID) AS backward_paper_citation FROM `research-311404.SciSciNet.paper_patent` \n",
    "GROUP BY PatentID) as t2 \n",
    "on t1.patent_id =t2.PatentID\n",
    "\n",
    "\n",
    "\"\"\"\n",
    "job = client.query(sql)  # API request.\n",
    "job.result()\n",
    "\n",
    "table_id = \"research-311404.Patent_Litigation_Patent_Variables.backward_paper_citation_PE\"\n",
    "table = client.get_table(table_id)\n",
    "print(\"Table {} now contains {} rows\".format(table_id, table.num_rows))"
   ]
  },
  {
   "cell_type": "code",
   "execution_count": 32,
   "id": "712c94f0-9907-4777-9d9d-a01c77d63f9b",
   "metadata": {
    "tags": []
   },
   "outputs": [
    {
     "name": "stdout",
     "output_type": "stream",
     "text": [
      "Table research-311404.Patent_Litigation_Patent_Variables.backward_patent_citation_general now contains 4109 rows\n",
      "Table research-311404.Patent_Litigation_Patent_Variables.backward_patent_citation_PAE now contains 2101 rows\n",
      "Table research-311404.Patent_Litigation_Patent_Variables.backward_patent_citation_PE now contains 2101 rows\n"
     ]
    }
   ],
   "source": [
    "# Backward Citation\n",
    "# patents\n",
    "\n",
    "sql = \"\"\"\n",
    "CREATE TABLE\n",
    "  `research-311404.Patent_Litigation_Patent_Variables.backward_patent_citation_general` AS\n",
    "select t1.*,\n",
    "case when backward_patent_citation is null then 0 else backward_patent_citation end as backward_patent_citation\n",
    "from (SELECT * FROM  `research-311404.Patent_Litigation_Patent_Variables.backward_paper_citation_general`) as t1\n",
    "left join (SELECT patent_id,COUNT(citation_id) AS backward_patent_citation  FROM `patents-public-data.patentsview.uspatentcitation` \n",
    "GROUP BY patent_id) as t2 \n",
    "on t1.patent_id =t2.patent_id\n",
    "\n",
    "\n",
    "\"\"\"\n",
    "job = client.query(sql)  # API request.\n",
    "job.result()\n",
    "\n",
    "table_id = \"research-311404.Patent_Litigation_Patent_Variables.backward_patent_citation_general\"\n",
    "table = client.get_table(table_id)\n",
    "print(\"Table {} now contains {} rows\".format(table_id, table.num_rows))\n",
    "\n",
    "sql = \"\"\"\n",
    "CREATE TABLE\n",
    "  `research-311404.Patent_Litigation_Patent_Variables.backward_patent_citation_PAE` AS\n",
    "select t1.*,\n",
    "case when backward_patent_citation is null then 0 else backward_patent_citation end as backward_patent_citation\n",
    "from (SELECT * FROM  `research-311404.Patent_Litigation_Patent_Variables.backward_paper_citation_PAE`) as t1\n",
    "left join (SELECT patent_id,COUNT(citation_id) AS backward_patent_citation  FROM `patents-public-data.patentsview.uspatentcitation` \n",
    "GROUP BY patent_id) as t2 \n",
    "on t1.patent_id =t2.patent_id\n",
    "\n",
    "\n",
    "\"\"\"\n",
    "job = client.query(sql)  # API request.\n",
    "job.result()\n",
    "\n",
    "table_id = \"research-311404.Patent_Litigation_Patent_Variables.backward_patent_citation_PAE\"\n",
    "table = client.get_table(table_id)\n",
    "print(\"Table {} now contains {} rows\".format(table_id, table.num_rows))\n",
    "\n",
    "sql = \"\"\"\n",
    "CREATE TABLE\n",
    "  `research-311404.Patent_Litigation_Patent_Variables.backward_patent_citation_PE` AS\n",
    "select t1.*,\n",
    "case when backward_patent_citation is null then 0 else backward_patent_citation end as backward_patent_citation\n",
    "from (SELECT * FROM `research-311404.Patent_Litigation_Patent_Variables.backward_paper_citation_PE`) as t1\n",
    "left join (SELECT patent_id,COUNT(citation_id) AS backward_patent_citation  FROM `patents-public-data.patentsview.uspatentcitation` \n",
    "GROUP BY patent_id) as t2 \n",
    "on t1.patent_id =t2.patent_id\n",
    "\n",
    "\n",
    "\"\"\"\n",
    "job = client.query(sql)  # API request.\n",
    "job.result()\n",
    "\n",
    "table_id = \"research-311404.Patent_Litigation_Patent_Variables.backward_patent_citation_PE\"\n",
    "table = client.get_table(table_id)\n",
    "print(\"Table {} now contains {} rows\".format(table_id, table.num_rows))"
   ]
  },
  {
   "cell_type": "code",
   "execution_count": 33,
   "id": "b5c8503d-9d56-4307-a4e2-d5246524e557",
   "metadata": {
    "tags": []
   },
   "outputs": [
    {
     "name": "stdout",
     "output_type": "stream",
     "text": [
      "Table research-311404.Patent_Litigation_Patent_Variables.backward_patent_citation_general now contains 4109 rows\n",
      "Table research-311404.Patent_Litigation_Patent_Variables.backward_patent_citation_PAE now contains 2101 rows\n",
      "Table research-311404.Patent_Litigation_Patent_Variables.CDIndex_PE now contains 2101 rows\n"
     ]
    }
   ],
   "source": [
    "## CD Index\n",
    "## Original CD Index data has information on 5,894,529 patents\n",
    "## We build this based on mcd_5\n",
    "## This information only goes from 1980 to 2013\n",
    "sql = \"\"\"\n",
    "CREATE TABLE\n",
    "  `research-311404.Patent_Litigation_Patent_Variables.CDIndex_general` AS\n",
    "select t1.*,mcd_5 AS CD_Index\n",
    "from ((SELECT * FROM  `research-311404.Patent_Litigation_Patent_Variables.backward_patent_citation_general`) as t1\n",
    "left join (SELECT CAST(patent_number AS STRING) AS patent_number,mcd_5 FROM `research-311404.CDIndex.cdindex_cross`) as t2 \n",
    "on t1.patent_id =t2.patent_number\n",
    ")\n",
    "\n",
    "\"\"\"\n",
    "job = client.query(sql)  # API request.\n",
    "job.result()\n",
    "\n",
    "table_id = \"research-311404.Patent_Litigation_Patent_Variables.CDIndex_general\"\n",
    "table = client.get_table(table_id)\n",
    "print(\"Table {} now contains {} rows\".format(table_id, table.num_rows))\n",
    "\n",
    "sql = \"\"\"\n",
    "CREATE TABLE\n",
    "  `research-311404.Patent_Litigation_Patent_Variables.CDIndex_PAE` AS\n",
    "select t1.*,mcd_5 AS CD_Index\n",
    "from ((SELECT * FROM  `research-311404.Patent_Litigation_Patent_Variables.backward_patent_citation_PAE`) as t1\n",
    "left join (SELECT CAST(patent_number AS STRING) AS patent_number,mcd_5 FROM `research-311404.CDIndex.cdindex_cross`) as t2 \n",
    "on t1.patent_id =t2.patent_number\n",
    ")\n",
    "\n",
    "\"\"\"\n",
    "job = client.query(sql)  # API request.\n",
    "job.result()\n",
    "\n",
    "table_id = \"research-311404.Patent_Litigation_Patent_Variables.CDIndex_PAE\"\n",
    "table = client.get_table(table_id)\n",
    "print(\"Table {} now contains {} rows\".format(table_id, table.num_rows))\n",
    "\n",
    "sql = \"\"\"\n",
    "CREATE TABLE\n",
    "  `research-311404.Patent_Litigation_Patent_Variables.CDIndex_PE` AS\n",
    "select t1.*,mcd_5 AS CD_Index\n",
    "from ((SELECT * FROM  `research-311404.Patent_Litigation_Patent_Variables.backward_patent_citation_PE`) as t1\n",
    "left join (SELECT CAST(patent_number AS STRING) AS patent_number,mcd_5 FROM `research-311404.CDIndex.cdindex_cross`) as t2 \n",
    "on t1.patent_id =t2.patent_number\n",
    ")\n",
    "\n",
    "\n",
    "\"\"\"\n",
    "job = client.query(sql)  # API request.\n",
    "job.result()\n",
    "\n",
    "table_id = \"research-311404.Patent_Litigation_Patent_Variables.CDIndex_PE\"\n",
    "table = client.get_table(table_id)\n",
    "print(\"Table {} now contains {} rows\".format(table_id, table.num_rows))"
   ]
  },
  {
   "cell_type": "code",
   "execution_count": 34,
   "id": "52e55b0e-83d9-4546-a76a-a8674bb26c2c",
   "metadata": {
    "tags": []
   },
   "outputs": [
    {
     "name": "stdout",
     "output_type": "stream",
     "text": [
      "Table research-311404.Patent_Litigation_Patent_Variables.Final_general now contains 4109 rows\n",
      "Table research-311404.Patent_Litigation_Patent_Variables.Final_PAE now contains 2101 rows\n",
      "Table research-311404.Patent_Litigation_Patent_Variables.Final_PE now contains 2101 rows\n"
     ]
    }
   ],
   "source": [
    "#orginality & generality\n",
    "\n",
    "sql = \"\"\"\n",
    "CREATE TABLE\n",
    "  `research-311404.Patent_Litigation_Patent_Variables.Final_general` AS\n",
    "select t1.*,originality,generality\n",
    "from ((SELECT * FROM  `research-311404.Patent_Litigation_Patent_Variables.CDIndex_general`) as t1\n",
    "left join (SELECT patent_id,originality FROM `research-311404.Generality_Consolidated.originality`) as t2 \n",
    "on t1.patent_id =t2.patent_id\n",
    "left join (SELECT patent_id,generality FROM `research-311404.Generality_Consolidated.generality`) as t3 \n",
    "on t1.patent_id =t3.patent_id\n",
    ")\n",
    "\n",
    "\"\"\"\n",
    "job = client.query(sql)  # API request.\n",
    "job.result()\n",
    "\n",
    "table_id = \"research-311404.Patent_Litigation_Patent_Variables.Final_general\"\n",
    "table = client.get_table(table_id)\n",
    "print(\"Table {} now contains {} rows\".format(table_id, table.num_rows))\n",
    "\n",
    "sql = \"\"\"\n",
    "CREATE TABLE\n",
    "  `research-311404.Patent_Litigation_Patent_Variables.Final_PAE` AS\n",
    "select t1.*,originality,generality\n",
    "from ((SELECT * FROM  `research-311404.Patent_Litigation_Patent_Variables.CDIndex_PAE`) as t1\n",
    "left join (SELECT patent_id,originality FROM `research-311404.Generality_Consolidated.originality`) as t2 \n",
    "on t1.patent_id =t2.patent_id\n",
    "left join (SELECT patent_id,generality FROM `research-311404.Generality_Consolidated.generality`) as t3 \n",
    "on t1.patent_id =t3.patent_id\n",
    ")\n",
    "\n",
    "\"\"\"\n",
    "job = client.query(sql)  # API request.\n",
    "job.result()\n",
    "\n",
    "table_id = \"research-311404.Patent_Litigation_Patent_Variables.Final_PAE\"\n",
    "table = client.get_table(table_id)\n",
    "print(\"Table {} now contains {} rows\".format(table_id, table.num_rows))\n",
    "\n",
    "sql = \"\"\"\n",
    "CREATE TABLE\n",
    "  `research-311404.Patent_Litigation_Patent_Variables.Final_PE` AS\n",
    "select t1.*,originality,generality\n",
    "from ((SELECT * FROM  `research-311404.Patent_Litigation_Patent_Variables.CDIndex_PE`) as t1\n",
    "left join (SELECT patent_id,originality FROM `research-311404.Generality_Consolidated.originality`) as t2 \n",
    "on t1.patent_id =t2.patent_id\n",
    "left join (SELECT patent_id,generality FROM `research-311404.Generality_Consolidated.generality`) as t3 \n",
    "on t1.patent_id =t3.patent_id\n",
    ")\n",
    "\n",
    "\n",
    "\"\"\"\n",
    "job = client.query(sql)  # API request.\n",
    "job.result()\n",
    "\n",
    "table_id = \"research-311404.Patent_Litigation_Patent_Variables.Final_PE\"\n",
    "table = client.get_table(table_id)\n",
    "print(\"Table {} now contains {} rows\".format(table_id, table.num_rows))\n",
    "\n",
    "\n"
   ]
  }
 ],
 "metadata": {
  "environment": {
   "kernel": "conda-root-py",
   "name": "workbench-notebooks.m113",
   "type": "gcloud",
   "uri": "gcr.io/deeplearning-platform-release/workbench-notebooks:m113"
  },
  "kernelspec": {
   "display_name": "Python 3 (ipykernel) (Local) (Local)",
   "language": "python",
   "name": "conda-root-py"
  },
  "language_info": {
   "codemirror_mode": {
    "name": "ipython",
    "version": 3
   },
   "file_extension": ".py",
   "mimetype": "text/x-python",
   "name": "python",
   "nbconvert_exporter": "python",
   "pygments_lexer": "ipython3",
   "version": "3.10.13"
  }
 },
 "nbformat": 4,
 "nbformat_minor": 5
}
