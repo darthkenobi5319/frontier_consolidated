{
 "cells": [
  {
   "cell_type": "code",
   "execution_count": null,
   "id": "1711245f-77de-4486-bb6f-1c0b0dd89d86",
   "metadata": {},
   "outputs": [],
   "source": [
    "# We construct originality & Generality"
   ]
  },
  {
   "cell_type": "code",
   "execution_count": 2,
   "id": "2fbca3c1-eac9-4b42-b6b1-47ed10f70e4d",
   "metadata": {
    "tags": []
   },
   "outputs": [
    {
     "name": "stdout",
     "output_type": "stream",
     "text": [
      "Client creating using default project: research-311404\n"
     ]
    }
   ],
   "source": [
    "import base64\n",
    "import datetime\n",
    "import pandas as pd\n",
    "import json\n",
    "from google.cloud import bigquery\n",
    "\n",
    "client = bigquery.Client(location=\"US\")\n",
    "print(\"Client creating using default project: {}\".format(client.project))"
   ]
  },
  {
   "cell_type": "code",
   "execution_count": 13,
   "id": "19993eac-92b6-4bd6-a37c-6bb262bd0fda",
   "metadata": {
    "tags": []
   },
   "outputs": [
    {
     "name": "stdout",
     "output_type": "stream",
     "text": [
      "Table research-311404.Generality_Consolidated.patent_reference now contains 282034968 rows\n"
     ]
    }
   ],
   "source": [
    "sql = \"\"\"\n",
    "CREATE TABLE\n",
    "  `research-311404.Generality_Consolidated.patent_reference` AS\n",
    "SELECT distinct inventor_id,t1.patent_id,t2.citation_id as reference, year,t3.subsection_id as patent_category, t3.group_id as patent_group, t4.subsection_id as reference_category,t4.group_id as reference_group\n",
    "from (SELECT patent_id,year,inventor_id FROM `research-311404.AI2Patent_Tree_Consolidated.AI2P_inventor_patent_level_min_full`) as t1\n",
    "join  `patents-public-data.patentsview.uspatentcitation` as t2\n",
    "on t1.patent_id=t2.patent_id\n",
    "join  `research-311404.PatTV_Construction.first_cpc_category` as t3\n",
    "on t1.patent_id=t3.patent_id\n",
    "join  `research-311404.PatTV_Construction.first_cpc_category` as t4\n",
    "on t2.citation_id=t4.patent_id\n",
    "\"\"\"\n",
    "\n",
    "job = client.query(sql)  # API request.\n",
    "job.result()\n",
    "table_id = \"research-311404.Generality_Consolidated.patent_reference\"\n",
    "table = client.get_table(table_id)\n",
    "print(\"Table {} now contains {} rows\".format(table_id, table.num_rows))"
   ]
  },
  {
   "cell_type": "code",
   "execution_count": null,
   "id": "117bd040-1ce0-4e27-b7b8-5aa5ec91069f",
   "metadata": {
    "tags": []
   },
   "outputs": [],
   "source": [
    "sql = \"\"\"\n",
    "CREATE TABLE\n",
    "  `research-311404.Generality_Consolidated.originality` AS\n",
    "SELECT t1.patent_id, (1 - SUM(POWER(ncited_group/ncited_pat,2))) AS originality\n",
    "FROM (SELECT patent_id,reference_group,\n",
    "count(*) as ncited_group FROM `research-311404.Generality_Consolidated.patent_reference` \n",
    "group by patent_id, reference_group)t1 \n",
    "LEFT JOIN\n",
    "(SELECT patent_id,count(*) as ncited_pat FROM `research-311404.Generality_Consolidated.patent_reference` \n",
    "group by patent_id)t2\n",
    "ON t1.patent_id = t2.patent_id\n",
    "GROUP BY t1.patent_id\n",
    "\"\"\"\n",
    "job = client.query(sql)  # API request.\n",
    "job.result()\n",
    "table_id = \"research-311404.Generality_Consolidated.originality\"\n",
    "table = client.get_table(table_id)\n",
    "print(\"Table {} now contains {} rows\".format(table_id, table.num_rows))"
   ]
  },
  {
   "cell_type": "code",
   "execution_count": 16,
   "id": "126c7599-a321-4959-a329-fe21f87d6370",
   "metadata": {
    "tags": []
   },
   "outputs": [
    {
     "name": "stdout",
     "output_type": "stream",
     "text": [
      "Table research-311404.Generality_Consolidated.patent_citation now contains 235487155 rows\n"
     ]
    }
   ],
   "source": [
    "sql = \"\"\"\n",
    "CREATE TABLE\n",
    "  `research-311404.Generality_Consolidated.patent_citation` AS\n",
    "SELECT distinct inventor_id,t1.patent_id,t2.patent_id as citation,year,t3.subsection_id as patent_category, t3.group_id as patent_group,\n",
    "t4.subsection_id as citation_category,t4.group_id as citation_group\n",
    "from (SELECT patent_id,year,inventor_id FROM  `research-311404.AI2Patent_Tree_Consolidated.AI2P_inventor_patent_level_min_full`) as t1\n",
    "join  `patents-public-data.patentsview.uspatentcitation` as t2\n",
    "on t1.patent_id=t2.citation_id\n",
    "join  `research-311404.PatTV_Construction.first_cpc_category` as t3\n",
    "on t1.patent_id=t3.patent_id\n",
    "join  `research-311404.PatTV_Construction.first_cpc_category` as t4\n",
    "on t2.patent_id=t4.patent_id\n",
    "\"\"\"\n",
    "job = client.query(sql)  # API request.\n",
    "job.result()\n",
    "table_id = \"research-311404.Generality_Consolidated.patent_citation\"\n",
    "table = client.get_table(table_id)\n",
    "print(\"Table {} now contains {} rows\".format(table_id, table.num_rows))"
   ]
  },
  {
   "cell_type": "code",
   "execution_count": 17,
   "id": "9e52d3fc-7d68-47e2-9f0d-52fcac1f475c",
   "metadata": {
    "tags": []
   },
   "outputs": [
    {
     "name": "stdout",
     "output_type": "stream",
     "text": [
      "Table research-311404.Generality_Consolidated.generality now contains 5123492 rows\n"
     ]
    }
   ],
   "source": [
    "sql = \"\"\"\n",
    "CREATE TABLE\n",
    "  `research-311404.Generality_Consolidated.generality` AS\n",
    "SELECT t1.patent_id, (1 - SUM(POWER(nciting_group/nciting_pat,2))) AS generality\n",
    "FROM (SELECT patent_id,citation_group,\n",
    "count(*) as nciting_group FROM `research-311404.Generality_Consolidated.patent_citation` \n",
    "group by patent_id, citation_group)t1 \n",
    "LEFT JOIN\n",
    "(SELECT patent_id,count(*) as nciting_pat FROM `research-311404.Generality_Consolidated.patent_citation` \n",
    "group by patent_id)t2\n",
    "ON t1.patent_id = t2.patent_id\n",
    "GROUP BY t1.patent_id\n",
    "\"\"\"\n",
    "job = client.query(sql)  # API request.\n",
    "job.result()\n",
    "table_id = \"research-311404.Generality_Consolidated.generality\"\n",
    "table = client.get_table(table_id)\n",
    "print(\"Table {} now contains {} rows\".format(table_id, table.num_rows))"
   ]
  }
 ],
 "metadata": {
  "environment": {
   "kernel": "conda-root-py",
   "name": "workbench-notebooks.m113",
   "type": "gcloud",
   "uri": "gcr.io/deeplearning-platform-release/workbench-notebooks:m113"
  },
  "kernelspec": {
   "display_name": "Python 3 (ipykernel) (Local)",
   "language": "python",
   "name": "conda-root-py"
  },
  "language_info": {
   "codemirror_mode": {
    "name": "ipython",
    "version": 3
   },
   "file_extension": ".py",
   "mimetype": "text/x-python",
   "name": "python",
   "nbconvert_exporter": "python",
   "pygments_lexer": "ipython3",
   "version": "3.10.13"
  }
 },
 "nbformat": 4,
 "nbformat_minor": 5
}
