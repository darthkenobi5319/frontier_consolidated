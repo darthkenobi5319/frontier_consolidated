{
 "cells": [
  {
   "cell_type": "code",
   "execution_count": null,
   "id": "0164e5a3-9935-45d9-8866-a8cf65be6508",
   "metadata": {},
   "outputs": [],
   "source": [
    "# We construct an examiner toughness based on time\n",
    "# First step: we need to be sure of the number of observations based on different dataset\n",
    "# Application data: research-311404.Examiner_Toughness.Examiner_Application; USPTO-2021 PatEx DATASET, 13,556,609 entries\n",
    "# Transaction data: research-311404.Examiner_Toughness.Examiner_transactions; USPTO-2021 PatEx DATASET, 481,133,923 entries\n",
    "# Choose utility patents, and count the number of applications/amendments up to a date"
   ]
  },
  {
   "cell_type": "code",
   "execution_count": 1,
   "id": "1ce9b219-398e-4e01-821a-dc38e672c535",
   "metadata": {
    "tags": []
   },
   "outputs": [
    {
     "name": "stdout",
     "output_type": "stream",
     "text": [
      "Client creating using default project: research-311404\n"
     ]
    }
   ],
   "source": [
    "import base64\n",
    "import datetime\n",
    "import pandas as pd\n",
    "import json\n",
    "from google.cloud import bigquery\n",
    "\n",
    "client = bigquery.Client(location=\"US\")\n",
    "print(\"Client creating using default project: {}\".format(client.project))"
   ]
  },
  {
   "cell_type": "code",
   "execution_count": 3,
   "id": "0eadfaea-d13e-402a-88b5-87d55c9fe8c7",
   "metadata": {
    "tags": []
   },
   "outputs": [
    {
     "data": {
      "text/plain": [
       "<google.cloud.bigquery.table._EmptyRowIterator at 0x7f9e380f6500>"
      ]
     },
     "execution_count": 3,
     "metadata": {},
     "output_type": "execute_result"
    }
   ],
   "source": [
    "# Consolidate to a single file\n",
    "sql = \"\"\"\n",
    "        CREATE TABLE research-311404.Examiner_Toughness_Amendments_Consolidated.amendments\n",
    "        AS SELECT t1.*, amendment_date FROM (SELECT application_number,filing_date,examiner_full_name,examiner_art_unit,patent_number FROM `research-311404.Examiner_Toughness.Examiner_Application` WHERE application_invention_type = 'Utility')t1\n",
    "        LEFT JOIN\n",
    "        (SELECT application_number,date AS amendment_date FROM `research-311404.Examiner_Toughness.Examiner_transactions` WHERE event_code = 'A...' or event_code = 'A.I.' or event_code = 'A.NE 'or event_code = 'A.NQ')t2\n",
    "        ON t1.application_number = t2.application_number\n",
    "        WHERE filing_date IS NOT NULL AND examiner_full_name IS NOT NULL\n",
    "        ORDER BY examiner_full_name,filing_date,amendment_date\n",
    "        \"\"\"\n",
    "\n",
    "job = client.query(sql)  # API request.\n",
    "job.result()\n",
    "# 13,281,623 outputs where there is not null for application year and examiner"
   ]
  },
  {
   "cell_type": "code",
   "execution_count": 4,
   "id": "12104141-b3e0-4d4d-9dd2-d5a0f534dc69",
   "metadata": {
    "tags": []
   },
   "outputs": [
    {
     "data": {
      "text/plain": [
       "<google.cloud.bigquery.table._EmptyRowIterator at 0x7f9e381b54b0>"
      ]
     },
     "execution_count": 4,
     "metadata": {},
     "output_type": "execute_result"
    }
   ],
   "source": [
    "# From this point on, we should construct two things: 1.cumulative count of applications for each examiner; 2. cumulative count of amendments for each examiner\n",
    "# We start from the applications\n",
    "# Consolidate to a single file\n",
    "sql = \"\"\"\n",
    "        CREATE TABLE research-311404.Examiner_Toughness_Amendments_Consolidated.application_count\n",
    "        AS SELECT \n",
    "            application_number, \n",
    "            filing_date, \n",
    "            examiner_full_name, \n",
    "            ROW_NUMBER() OVER(PARTITION BY examiner_full_name ORDER BY filing_date ASC) as application_count\n",
    "        FROM \n",
    "             (SELECT application_number, filing_date, examiner_full_name FROM `research-311404.Examiner_Toughness_Amendments_Consolidated.amendments` GROUP BY application_number, filing_date, examiner_full_name)\n",
    "        ORDER BY \n",
    "            examiner_full_name, \n",
    "            filing_date;\n",
    "\n",
    "        \"\"\"\n",
    "\n",
    "job = client.query(sql)  # API request.\n",
    "job.result()\n",
    "# 9,992,041 unique applications"
   ]
  },
  {
   "cell_type": "code",
   "execution_count": 5,
   "id": "d0580c77-8767-4662-b374-b5f0668c0b03",
   "metadata": {
    "tags": []
   },
   "outputs": [
    {
     "data": {
      "text/plain": [
       "<google.cloud.bigquery.table._EmptyRowIterator at 0x7f9e3823c220>"
      ]
     },
     "execution_count": 5,
     "metadata": {},
     "output_type": "execute_result"
    }
   ],
   "source": [
    "# Continue to amendments\n",
    "# Consolidate to a single file\n",
    "sql = \"\"\"\n",
    "        CREATE TABLE research-311404.Examiner_Toughness_Amendments_Consolidated.amendment_count\n",
    "        AS SELECT \n",
    "    examiner_full_name, amendment_date,\n",
    "        ROW_NUMBER() OVER(PARTITION BY examiner_full_name ORDER BY amendment_date ASC) as amendment_count\n",
    "    FROM `research-311404.Examiner_Toughness_Amendments_Consolidated.amendments` WHERE amendment_date IS NOT NULL\n",
    "    ORDER BY \n",
    "        examiner_full_name, \n",
    "        amendment_date;\n",
    "\n",
    "\n",
    "        \"\"\"\n",
    "\n",
    "job = client.query(sql)  # API request.\n",
    "job.result()\n",
    "# 10,458,162 amendments"
   ]
  },
  {
   "cell_type": "code",
   "execution_count": 19,
   "id": "aa13c68a-dec8-42e9-866e-0328fede5d82",
   "metadata": {
    "tags": []
   },
   "outputs": [],
   "source": [
    "# Continue to amendments\n",
    "# Consolidate to a single file\n",
    "sql = \"\"\"\n",
    "SELECT examiner_full_name, filing_date  FROM research-311404.Examiner_Toughness_Amendments_Consolidated.application_count ORDER BY filing_date\n",
    "\"\"\"\n",
    "job = client.query(sql)  # API request.\n",
    "df_A = job.to_dataframe()\n",
    "\n",
    "#return the results as a pandas DataFrame.\n",
    "\n",
    "sql = \"\"\"\n",
    "SELECT examiner_full_name,amendment_date,amendment_count FROM `research-311404.Examiner_Toughness_Amendments_Consolidated.amendment_count` ORDER BY amendment_date\n",
    "\"\"\"\n",
    "job = client.query(sql)  # API request.\n",
    "df_B = job.to_dataframe()   \n",
    "\n",
    "#return the results as a pandas DataFrame."
   ]
  },
  {
   "cell_type": "code",
   "execution_count": 25,
   "id": "cc4e9b3c-11a3-4695-8775-1f96c8f97bf3",
   "metadata": {
    "tags": []
   },
   "outputs": [],
   "source": [
    "df_A['examiner_full_name'] = df_A['examiner_full_name'].astype(\"string\")\n",
    "df_B['examiner_full_name'] = df_B['examiner_full_name'].astype(\"string\")"
   ]
  },
  {
   "cell_type": "code",
   "execution_count": 30,
   "id": "a9a54c01-f43f-427e-ad16-76982f2ca8fc",
   "metadata": {
    "tags": []
   },
   "outputs": [],
   "source": [
    "df_A['filing_date'] = pd.to_datetime(df_A['filing_date'], format='%Y-%m-%d')\n",
    "df_B['amendment_date'] = pd.to_datetime(df_B['amendment_date'], format='%Y-%m-%d')"
   ]
  },
  {
   "cell_type": "code",
   "execution_count": 31,
   "id": "4a2284d2-1870-474f-97b3-add6af278380",
   "metadata": {
    "tags": []
   },
   "outputs": [],
   "source": [
    "df_A = df_A.sort_values('filing_date')\n",
    "df_B = df_B.sort_values('amendment_date')"
   ]
  },
  {
   "cell_type": "code",
   "execution_count": 32,
   "id": "5232fadb-6787-413e-84f4-3ee71bc4cfa1",
   "metadata": {
    "tags": []
   },
   "outputs": [
    {
     "data": {
      "text/plain": [
       "examiner_full_name    string[python]\n",
       "amendment_date        datetime64[ns]\n",
       "amendment_count                Int64\n",
       "dtype: object"
      ]
     },
     "execution_count": 32,
     "metadata": {},
     "output_type": "execute_result"
    }
   ],
   "source": [
    "df_B.dtypes"
   ]
  },
  {
   "cell_type": "code",
   "execution_count": 33,
   "id": "1b749620-ea29-47d3-b13f-b96aa557c4c0",
   "metadata": {},
   "outputs": [],
   "source": [
    "# Merge the dataframes\n",
    "df_final = pd.merge_asof(df_A, df_B, left_on='filing_date', right_on='amendment_date', by='examiner_full_name', direction='backward')\n",
    "# The final dataframe now contains the columns: examiner_full_name, filing_date, amendment_count"
   ]
  },
  {
   "cell_type": "code",
   "execution_count": 37,
   "id": "5dcede4c-0ecc-4e17-b894-369af2f28162",
   "metadata": {
    "tags": []
   },
   "outputs": [
    {
     "name": "stdout",
     "output_type": "stream",
     "text": [
      "Loaded dataframe to /projects/research-311404/datasets/Examiner_Toughness_Amendments_Consolidated/tables/amendment_count_by_filing_date\n"
     ]
    }
   ],
   "source": [
    "df = df_final.dropna()[['examiner_full_name','filing_date','amendment_count']]\n",
    "# The project defaults to the Client's project if not specified.\n",
    "dataset = client.get_dataset('research-311404.Examiner_Toughness_Amendments_Consolidated')  # API request\n",
    "table_ref = dataset.table('amendment_count_by_filing_date')\n",
    "job = client.load_table_from_dataframe(df, table_ref, location=\"US\")\n",
    "job.result()  # Waits for table load to complete.\n",
    "print(\"Loaded dataframe to {}\".format(table_ref.path))"
   ]
  },
  {
   "cell_type": "code",
   "execution_count": 38,
   "id": "c1c04719-e039-4ec0-b480-4c5feb58a09c",
   "metadata": {
    "tags": []
   },
   "outputs": [
    {
     "data": {
      "text/plain": [
       "<google.cloud.bigquery.table._EmptyRowIterator at 0x7f4bbcb636a0>"
      ]
     },
     "execution_count": 38,
     "metadata": {},
     "output_type": "execute_result"
    }
   ],
   "source": [
    "# With two things: 1.cumulative count of applications for each examiner; 2. cumulative count of amendments for each examiner\n",
    "# We calculate for each examiner and filing-date \n",
    "# Consolidate to a single file\n",
    "# eliminate all patents assigned to ' Central Docket'\n",
    "sql = \"\"\"\n",
    "        CREATE TABLE research-311404.Examiner_Toughness_Amendments_Consolidated.full_count\n",
    "        AS SELECT application_number,t1.filing_date,t1.examiner_full_name,application_count,amendment_count\n",
    "         FROM (SELECT \n",
    "                    * FROM research-311404.Examiner_Toughness_Amendments_Consolidated.application_count)t1\n",
    "                    LEFT JOIN\n",
    "                     (SELECT examiner_full_name, filing_date, amendment_count FROM `research-311404.Examiner_Toughness_Amendments_Consolidated.amendment_count_by_filing_date`)t2\n",
    "                     ON t1.examiner_full_name = t2.examiner_full_name AND t1.filing_date = t2.filing_date\n",
    "                     WHERE t1.examiner_full_name != 'CENTRAL, DOCKET'\n",
    "                     GROUP BY application_number,t1.filing_date,t1.examiner_full_name,application_count,amendment_count\n",
    "\n",
    "\n",
    "        \"\"\"\n",
    "\n",
    "job = client.query(sql)  # API request.\n",
    "job.result()\n",
    "# 9,695,836 unique applications, central docket applications are no longer considered"
   ]
  },
  {
   "cell_type": "code",
   "execution_count": 39,
   "id": "c4b2ce17-3d83-448c-bca1-2f0dc1eb79ca",
   "metadata": {
    "tags": []
   },
   "outputs": [
    {
     "data": {
      "text/plain": [
       "<google.cloud.bigquery.table._EmptyRowIterator at 0x7f4bb7648f40>"
      ]
     },
     "execution_count": 39,
     "metadata": {},
     "output_type": "execute_result"
    }
   ],
   "source": [
    "# We need the plain toughness and scale it by art unit\n",
    "# scale it by the overall examiner toughness OF THAT YEAR!\n",
    "\n",
    "# art_unit_year level toughness    \n",
    "sql = \"\"\"\n",
    "    CREATE TABLE research-311404.Examiner_Toughness_Amendments_Consolidated.art_unit_toughness\n",
    "    AS SELECT filing_year,examiner_art_unit,IFNULL(SUM(amendment_count)/SUM(application_count),0) as toughness FROM (SELECT application_number,LEFT(CAST(filing_date AS STRING),4) AS filing_year,examiner_full_name,application_count,amendment_count\n",
    "    FROM research-311404.Examiner_Toughness_Amendments_Consolidated.full_count)t1\n",
    "    LEFT JOIN\n",
    "    (SELECT application_number,examiner_art_unit FROM `research-311404.Examiner_Toughness.Examiner_Application`)t2\n",
    "    ON t1.application_number = t2.application_number\n",
    "    WHERE examiner_art_unit IS NOT NULL\n",
    "    GROUP BY filing_year,examiner_art_unit\n",
    "    \"\"\"\n",
    "\n",
    "job = client.query(sql)  # API request.\n",
    "job.result()\n",
    "# 23,044 art unit - year level toughness"
   ]
  },
  {
   "cell_type": "code",
   "execution_count": 40,
   "id": "2d445c37-3a99-4862-9486-c25a2f5fc178",
   "metadata": {
    "tags": []
   },
   "outputs": [
    {
     "data": {
      "text/plain": [
       "<google.cloud.bigquery.table._EmptyRowIterator at 0x7f4bb7a91d20>"
      ]
     },
     "execution_count": 40,
     "metadata": {},
     "output_type": "execute_result"
    }
   ],
   "source": [
    "# patent level toughness    \n",
    "sql = \"\"\"\n",
    "    CREATE TABLE research-311404.Examiner_Toughness_Amendments_Consolidated.examiner_toughness\n",
    "    AS SELECT patent_number,filing_year,examiner_art_unit,IFNULL(amendment_count/application_count,0) AS examiner_toughness FROM (SELECT application_number,LEFT(CAST(filing_date AS STRING),4) AS filing_year,examiner_full_name,application_count,amendment_count\n",
    "    FROM research-311404.Examiner_Toughness_Amendments_Consolidated.full_count)t1\n",
    "    LEFT JOIN\n",
    "    (SELECT application_number,examiner_art_unit,patent_number FROM `research-311404.Examiner_Toughness.Examiner_Application`)t2\n",
    "    ON t1.application_number = t2.application_number\n",
    "    WHERE examiner_art_unit IS NOT NULL AND patent_number IS NOT NULL\n",
    "    \"\"\"\n",
    "\n",
    "job = client.query(sql)  # API request.\n",
    "job.result()\n",
    "# 7,051,680 patents. Because limitations from the OCE PAIR dataset\n",
    "\n"
   ]
  },
  {
   "cell_type": "code",
   "execution_count": 41,
   "id": "cfd46583-5970-46c8-9a71-adbeeb97e28a",
   "metadata": {
    "tags": []
   },
   "outputs": [
    {
     "data": {
      "text/plain": [
       "<google.cloud.bigquery.table._EmptyRowIterator at 0x7f4cb3368580>"
      ]
     },
     "execution_count": 41,
     "metadata": {},
     "output_type": "execute_result"
    }
   ],
   "source": [
    "# scaled examiner level toughness    \n",
    "sql = \"\"\"\n",
    "    CREATE TABLE research-311404.Examiner_Toughness_Amendments_Consolidated.examiner_scaled_toughness\n",
    "    AS SELECT patent_number,t1.filing_year,IFNULL(examiner_toughness/NULLIF(toughness,0),0) AS scaled_toughness FROM (SELECT *\n",
    "    FROM  research-311404.Examiner_Toughness_Amendments_Consolidated.examiner_toughness)t1\n",
    "    LEFT JOIN\n",
    "    (SELECT filing_year,examiner_art_unit,toughness\n",
    "    FROM `research-311404.Examiner_Toughness_Amendments_Consolidated.art_unit_toughness`)t2\n",
    "    ON t1.filing_year= t2.filing_year AND t1.examiner_art_unit = t2.examiner_art_unit\n",
    "\n",
    "    \"\"\"\n",
    "\n",
    "job = client.query(sql)  # API request.\n",
    "job.result()\n",
    "# 7,051,680 patents. Because limitations from the OCE PAIR dataset"
   ]
  }
 ],
 "metadata": {
  "environment": {
   "kernel": "conda-root-py",
   "name": "workbench-notebooks.m113",
   "type": "gcloud",
   "uri": "gcr.io/deeplearning-platform-release/workbench-notebooks:m113"
  },
  "kernelspec": {
   "display_name": "Python 3 (ipykernel) (Local)",
   "language": "python",
   "name": "conda-root-py"
  },
  "language_info": {
   "codemirror_mode": {
    "name": "ipython",
    "version": 3
   },
   "file_extension": ".py",
   "mimetype": "text/x-python",
   "name": "python",
   "nbconvert_exporter": "python",
   "pygments_lexer": "ipython3",
   "version": "3.10.13"
  }
 },
 "nbformat": 4,
 "nbformat_minor": 5
}
