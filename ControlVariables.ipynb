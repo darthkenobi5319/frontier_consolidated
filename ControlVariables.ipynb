{
 "cells": [
  {
   "cell_type": "code",
   "execution_count": 1,
   "id": "3901c89c-ed7f-4a01-bdbb-b2c4d5499ef8",
   "metadata": {
    "tags": []
   },
   "outputs": [
    {
     "name": "stdout",
     "output_type": "stream",
     "text": [
      "Client creating using default project: research-311404\n"
     ]
    }
   ],
   "source": [
    "import base64\n",
    "import datetime\n",
    "import pandas as pd\n",
    "import json\n",
    "from google.cloud import bigquery\n",
    "\n",
    "client = bigquery.Client(location=\"US\")\n",
    "print(\"Client creating using default project: {}\".format(client.project))"
   ]
  },
  {
   "cell_type": "code",
   "execution_count": 2,
   "id": "595bc4d2-978a-4498-9463-2aa52bad7187",
   "metadata": {
    "tags": []
   },
   "outputs": [
    {
     "name": "stdout",
     "output_type": "stream",
     "text": [
      "Client created using default project: research-311404\n",
      "Name: rawdataupload/Inventor/g_assignee_disambiguated.tsv/1700305825794328\n",
      "Size: 992341318 bytes\n",
      "Content type: application/octet-stream\n",
      "Public URL: https://storage.googleapis.com/rawdataupload/Inventor/g_assignee_disambiguated.tsv\n"
     ]
    }
   ],
   "source": [
    "## Load data directly from GCP and then process from here\n",
    "## I wonder if we want to use granted data or pre grant data. We will use granted for now (consistency consideration)\n",
    "from google.cloud import storage\n",
    "client = storage.Client()\n",
    "print(\"Client created using default project: {}\".format(client.project))\n",
    "bucket = client.get_bucket('rawdataupload')\n",
    "blob = bucket.get_blob('Inventor/g_assignee_disambiguated.tsv')\n",
    "\n",
    "print(\"Name: {}\".format(blob.id))\n",
    "print(\"Size: {} bytes\".format(blob.size))\n",
    "print(\"Content type: {}\".format(blob.content_type))\n",
    "print(\"Public URL: {}\".format(blob.public_url))"
   ]
  },
  {
   "cell_type": "code",
   "execution_count": 3,
   "id": "06516692-904a-40b9-a032-16098857cb6c",
   "metadata": {
    "tags": []
   },
   "outputs": [
    {
     "name": "stdout",
     "output_type": "stream",
     "text": [
      "Downloaded blob Inventor/g_assignee_disambiguated.tsv to g_assignee_disambiguated.tsv.\n"
     ]
    }
   ],
   "source": [
    "output_file_name = \"g_assignee_disambiguated.tsv\"\n",
    "blob.download_to_filename('g_assignee_disambiguated.tsv')\n",
    "\n",
    "print(\"Downloaded blob {} to {}.\".format(blob.name, 'g_assignee_disambiguated.tsv'))"
   ]
  },
  {
   "cell_type": "code",
   "execution_count": 4,
   "id": "f0d3f2d2-1a1b-4cbe-a039-1943519c96bd",
   "metadata": {
    "tags": []
   },
   "outputs": [
    {
     "name": "stdout",
     "output_type": "stream",
     "text": [
      "Name: rawdataupload/Inventor/g_inventor_disambiguated.tsv/1700305916842029\n",
      "Size: 2025092416 bytes\n",
      "Content type: application/octet-stream\n",
      "Public URL: https://storage.googleapis.com/rawdataupload/Inventor/g_inventor_disambiguated.tsv\n",
      "Downloaded blob Inventor/g_inventor_disambiguated.tsv to g_inventor_disambiguated.tsv.\n"
     ]
    }
   ],
   "source": [
    "blob = bucket.get_blob('Inventor/g_inventor_disambiguated.tsv')\n",
    "\n",
    "print(\"Name: {}\".format(blob.id))\n",
    "print(\"Size: {} bytes\".format(blob.size))\n",
    "print(\"Content type: {}\".format(blob.content_type))\n",
    "print(\"Public URL: {}\".format(blob.public_url))\n",
    "output_file_name = \"g_inventor_disambiguated.tsv\"\n",
    "blob.download_to_filename('g_inventor_disambiguated.tsv')\n",
    "\n",
    "print(\"Downloaded blob {} to {}.\".format(blob.name, 'g_inventor_disambiguated.tsv'))"
   ]
  },
  {
   "cell_type": "code",
   "execution_count": 2,
   "id": "f6c71f94-924d-4040-9304-5612f3955973",
   "metadata": {
    "tags": []
   },
   "outputs": [
    {
     "data": {
      "text/html": [
       "<div>\n",
       "<style scoped>\n",
       "    .dataframe tbody tr th:only-of-type {\n",
       "        vertical-align: middle;\n",
       "    }\n",
       "\n",
       "    .dataframe tbody tr th {\n",
       "        vertical-align: top;\n",
       "    }\n",
       "\n",
       "    .dataframe thead th {\n",
       "        text-align: right;\n",
       "    }\n",
       "</style>\n",
       "<table border=\"1\" class=\"dataframe\">\n",
       "  <thead>\n",
       "    <tr style=\"text-align: right;\">\n",
       "      <th></th>\n",
       "      <th>patent_id</th>\n",
       "      <th>inventor_sequence</th>\n",
       "      <th>inventor_id</th>\n",
       "      <th>disambig_inventor_name_first</th>\n",
       "      <th>disambig_inventor_name_last</th>\n",
       "      <th>gender_code</th>\n",
       "      <th>location_id</th>\n",
       "    </tr>\n",
       "  </thead>\n",
       "  <tbody>\n",
       "    <tr>\n",
       "      <th>0</th>\n",
       "      <td>6584128</td>\n",
       "      <td>0</td>\n",
       "      <td>fl:ri_ln:kroeger-1</td>\n",
       "      <td>Richard</td>\n",
       "      <td>Kroeger</td>\n",
       "      <td>M</td>\n",
       "      <td>NaN</td>\n",
       "    </tr>\n",
       "    <tr>\n",
       "      <th>1</th>\n",
       "      <td>4789863</td>\n",
       "      <td>0</td>\n",
       "      <td>fl:th_ln:bush-1</td>\n",
       "      <td>Thomas A.</td>\n",
       "      <td>Bush</td>\n",
       "      <td>M</td>\n",
       "      <td>NaN</td>\n",
       "    </tr>\n",
       "    <tr>\n",
       "      <th>2</th>\n",
       "      <td>11161990</td>\n",
       "      <td>1</td>\n",
       "      <td>fl:ma_ln:boudreaux-4</td>\n",
       "      <td>Matthew F.</td>\n",
       "      <td>Boudreaux</td>\n",
       "      <td>M</td>\n",
       "      <td>04726932-16c8-11ed-9b5f-1234bde3cd05</td>\n",
       "    </tr>\n",
       "    <tr>\n",
       "      <th>3</th>\n",
       "      <td>6795487</td>\n",
       "      <td>1</td>\n",
       "      <td>fl:ge_ln:whitworth-1</td>\n",
       "      <td>Gerald</td>\n",
       "      <td>Whitworth</td>\n",
       "      <td>M</td>\n",
       "      <td>NaN</td>\n",
       "    </tr>\n",
       "    <tr>\n",
       "      <th>4</th>\n",
       "      <td>D474886</td>\n",
       "      <td>0</td>\n",
       "      <td>fl:th_ln:fleming-4</td>\n",
       "      <td>Thomas W.</td>\n",
       "      <td>Fleming</td>\n",
       "      <td>M</td>\n",
       "      <td>1893009c-16c8-11ed-9b5f-1234bde3cd05</td>\n",
       "    </tr>\n",
       "  </tbody>\n",
       "</table>\n",
       "</div>"
      ],
      "text/plain": [
       "  patent_id  inventor_sequence           inventor_id  \\\n",
       "0   6584128                  0    fl:ri_ln:kroeger-1   \n",
       "1   4789863                  0       fl:th_ln:bush-1   \n",
       "2  11161990                  1  fl:ma_ln:boudreaux-4   \n",
       "3   6795487                  1  fl:ge_ln:whitworth-1   \n",
       "4   D474886                  0    fl:th_ln:fleming-4   \n",
       "\n",
       "  disambig_inventor_name_first disambig_inventor_name_last gender_code  \\\n",
       "0                      Richard                     Kroeger           M   \n",
       "1                    Thomas A.                        Bush           M   \n",
       "2                   Matthew F.                   Boudreaux           M   \n",
       "3                       Gerald                   Whitworth           M   \n",
       "4                    Thomas W.                     Fleming           M   \n",
       "\n",
       "                            location_id  \n",
       "0                                   NaN  \n",
       "1                                   NaN  \n",
       "2  04726932-16c8-11ed-9b5f-1234bde3cd05  \n",
       "3                                   NaN  \n",
       "4  1893009c-16c8-11ed-9b5f-1234bde3cd05  "
      ]
     },
     "execution_count": 2,
     "metadata": {},
     "output_type": "execute_result"
    }
   ],
   "source": [
    "## Start with inventor dataset\n",
    "import pandas as pd\n",
    "import numpy as np\n",
    "inventor = pd.read_csv('g_inventor_disambiguated.tsv', sep='\\t')\n",
    "inventor.head()"
   ]
  },
  {
   "cell_type": "code",
   "execution_count": 16,
   "id": "b471f90a-6941-4740-91c3-24d3b9bba67f",
   "metadata": {
    "tags": []
   },
   "outputs": [],
   "source": [
    "inventor_gender = inventor[['inventor_id','gender_code']]\n",
    "mapping = {'M': 1, 'F': 2, 'U': 3, np.nan: 4}\n",
    "inventor_gender['gender_code'] = inventor_gender['gender_code'].replace(mapping)"
   ]
  },
  {
   "cell_type": "code",
   "execution_count": 19,
   "id": "5bc331e6-c0c7-4d58-a815-0ffd35902dae",
   "metadata": {
    "tags": []
   },
   "outputs": [
    {
     "name": "stdout",
     "output_type": "stream",
     "text": [
      "Loaded dataframe to /projects/research-311404/datasets/Inventor_Consolidated/tables/inventor_gender\n"
     ]
    }
   ],
   "source": [
    "# Gender code: 1. Male, 2. Female, 3, Unknown, 4. Missing (perhaps Not individual)\n",
    "dataset = client.get_dataset('research-311404.Inventor_Consolidated')  # API request\n",
    "table_ref = dataset.table('inventor_gender')\n",
    "job = client.load_table_from_dataframe(inventor_gender, table_ref, location=\"US\")\n",
    "job.result()  # Waits for table load to complete.\n",
    "print(\"Loaded dataframe to {}\".format(table_ref.path))\n",
    "### 3,959,261 unique inventor, Assume they do not change over time"
   ]
  },
  {
   "cell_type": "code",
   "execution_count": 7,
   "id": "e56abce1-7c91-4e1d-94c9-056b97f965d1",
   "metadata": {},
   "outputs": [
    {
     "name": "stdout",
     "output_type": "stream",
     "text": [
      "Loaded dataframe to /projects/research-311404/datasets/temp/tables/inventor_solo\n"
     ]
    }
   ],
   "source": [
    "inventor_solo = inventor[['inventor_id','inventor_sequence','patent_id']]\n",
    "dataset = client.get_dataset('research-311404.temp')  # API request\n",
    "table_ref = dataset.table('inventor_solo')\n",
    "job = client.load_table_from_dataframe(inventor_solo, table_ref, location=\"US\")\n",
    "job.result()  # Waits for table load to complete.\n",
    "print(\"Loaded dataframe to {}\".format(table_ref.path))"
   ]
  },
  {
   "cell_type": "code",
   "execution_count": 12,
   "id": "9d30542b-da02-4342-97c8-1aeea4ea3c7e",
   "metadata": {
    "tags": []
   },
   "outputs": [
    {
     "name": "stdout",
     "output_type": "stream",
     "text": [
      "Table research-311404.Inventor_Consolidated.inventor_solo_full_data now contains 130702105 rows\n"
     ]
    }
   ],
   "source": [
    "sql = \"\"\"\n",
    "        CREATE TABLE research-311404.Inventor_Consolidated.inventor_solo_full_data\n",
    "        AS \n",
    "        SELECT t1.patent_id,year,inventor_id,is_solo_inventor FROM\n",
    "        ((SELECT patent_id,year,inventor_id FROM  `research-311404.AI2Patent_Tree_Consolidated.AI2P_inventor_patent_level_min_full`)t1\n",
    "        LEFT JOIN\n",
    "        (SELECT patent_id, CASE WHEN MAX(inventor_sequence) = 0 THEN 1 ELSE 0 END AS is_solo_inventor FROM research-311404.temp.inventor_solo GROUP BY patent_id)t2\n",
    "        ON t1.patent_id = t2.patent_id)\n",
    "        WHERE is_solo_inventor IS NOT NULL\n",
    "        \"\"\"\n",
    "\n",
    "job = client.query(sql)  # API request.\n",
    "job.result()  # Waits for the query to finish.\n",
    "table_id = \"research-311404.Inventor_Consolidated.inventor_solo_full_data\"\n",
    "table = client.get_table(table_id)\n",
    "print(\"Table {} now contains {} rows\".format(table_id, table.num_rows))"
   ]
  },
  {
   "cell_type": "code",
   "execution_count": 13,
   "id": "e353d7ea-ee1a-45f5-a472-493967852be0",
   "metadata": {
    "tags": []
   },
   "outputs": [],
   "source": [
    "## 130,702,105 patents with inventor-sequence information\n",
    "## This should be in accordance with AI2P Construction\n",
    "for t in range(36):\n",
    "    start_year = t + 1980\n",
    "    end_year = t + 1982\n",
    "    sql = f\"\"\"\n",
    "        CREATE TABLE research-311404.temp.inventor_solo_{end_year}\n",
    "        AS SELECT inventor_id, {end_year} AS fyear,  AVG(is_solo_inventor) AS is_solo_inventor FROM `research-311404.Inventor_Consolidated.inventor_solo_full_data`\n",
    "        WHERE year >= {start_year} and year <= {end_year}\n",
    "        group by inventor_id\n",
    "        \"\"\"\n",
    "\n",
    "    job = client.query(sql)  # API request.\n",
    "    job.result()  # Waits for the query to finish."
   ]
  },
  {
   "cell_type": "code",
   "execution_count": 14,
   "id": "731a561e-8374-4501-a053-e6311ad9f73c",
   "metadata": {
    "tags": []
   },
   "outputs": [
    {
     "name": "stdout",
     "output_type": "stream",
     "text": [
      "Table research-311404.AI2Patent_Tree_Consolidated.inventor_solo now contains 20183061 rows\n"
     ]
    }
   ],
   "source": [
    "# Consolidate to a single file\n",
    "sql = \"\"\"\n",
    "        CREATE TABLE research-311404.AI2Patent_Tree_Consolidated.inventor_solo\n",
    "        AS SELECT * FROM `research-311404.temp.inventor_solo_*`\n",
    "        \"\"\"\n",
    "\n",
    "job = client.query(sql)  # API request.\n",
    "job.result()\n",
    "table_id = \"research-311404.AI2Patent_Tree_Consolidated.inventor_solo\"\n",
    "table = client.get_table(table_id)\n",
    "print(\"Table {} now contains {} rows\".format(table_id, table.num_rows))\n",
    "## 20,183,061 inventor-year level observations"
   ]
  },
  {
   "cell_type": "code",
   "execution_count": 15,
   "id": "7810053c-e989-4512-b057-0e25a201d711",
   "metadata": {
    "tags": []
   },
   "outputs": [
    {
     "data": {
      "text/html": [
       "<div>\n",
       "<style scoped>\n",
       "    .dataframe tbody tr th:only-of-type {\n",
       "        vertical-align: middle;\n",
       "    }\n",
       "\n",
       "    .dataframe tbody tr th {\n",
       "        vertical-align: top;\n",
       "    }\n",
       "\n",
       "    .dataframe thead th {\n",
       "        text-align: right;\n",
       "    }\n",
       "</style>\n",
       "<table border=\"1\" class=\"dataframe\">\n",
       "  <thead>\n",
       "    <tr style=\"text-align: right;\">\n",
       "      <th></th>\n",
       "      <th>patent_id</th>\n",
       "      <th>assignee_sequence</th>\n",
       "      <th>assignee_id</th>\n",
       "      <th>disambig_assignee_individual_name_first</th>\n",
       "      <th>disambig_assignee_individual_name_last</th>\n",
       "      <th>disambig_assignee_organization</th>\n",
       "      <th>assignee_type</th>\n",
       "      <th>location_id</th>\n",
       "    </tr>\n",
       "  </thead>\n",
       "  <tbody>\n",
       "    <tr>\n",
       "      <th>0</th>\n",
       "      <td>4488683</td>\n",
       "      <td>0</td>\n",
       "      <td>b942050d-150f-42e4-83d4-a7cde0870f82</td>\n",
       "      <td>NaN</td>\n",
       "      <td>NaN</td>\n",
       "      <td>Metal Works Ramat David</td>\n",
       "      <td>3.0</td>\n",
       "      <td>50dc5d46-16c8-11ed-9b5f-1234bde3cd05</td>\n",
       "    </tr>\n",
       "    <tr>\n",
       "      <th>1</th>\n",
       "      <td>5856666</td>\n",
       "      <td>0</td>\n",
       "      <td>dd8cd1db-a0f0-4b3b-ba4a-25038814e332</td>\n",
       "      <td>NaN</td>\n",
       "      <td>NaN</td>\n",
       "      <td>U.S. Philips Corporation</td>\n",
       "      <td>2.0</td>\n",
       "      <td>92237ca2-16c8-11ed-9b5f-1234bde3cd05</td>\n",
       "    </tr>\n",
       "    <tr>\n",
       "      <th>2</th>\n",
       "      <td>5204210</td>\n",
       "      <td>0</td>\n",
       "      <td>8d18afca-9c87-4e93-acd9-db539730dc3b</td>\n",
       "      <td>NaN</td>\n",
       "      <td>NaN</td>\n",
       "      <td>Xerox Corporation</td>\n",
       "      <td>2.0</td>\n",
       "      <td>0cd1998f-16c8-11ed-9b5f-1234bde3cd05</td>\n",
       "    </tr>\n",
       "    <tr>\n",
       "      <th>3</th>\n",
       "      <td>5302149</td>\n",
       "      <td>1</td>\n",
       "      <td>add68f05-55da-4cd8-9c3a-85d2cf1e1798</td>\n",
       "      <td>NaN</td>\n",
       "      <td>NaN</td>\n",
       "      <td>COMMONWEALTH SCIENTIFIC AND INDUSTRIAL RESEARC...</td>\n",
       "      <td>3.0</td>\n",
       "      <td>4d36742f-16c8-11ed-9b5f-1234bde3cd05</td>\n",
       "    </tr>\n",
       "    <tr>\n",
       "      <th>4</th>\n",
       "      <td>D397841</td>\n",
       "      <td>0</td>\n",
       "      <td>a8173451-b1cb-4071-bf4f-b844df2703a7</td>\n",
       "      <td>NaN</td>\n",
       "      <td>NaN</td>\n",
       "      <td>adidas AG</td>\n",
       "      <td>3.0</td>\n",
       "      <td>280c9de4-16c8-11ed-9b5f-1234bde3cd05</td>\n",
       "    </tr>\n",
       "  </tbody>\n",
       "</table>\n",
       "</div>"
      ],
      "text/plain": [
       "  patent_id  assignee_sequence                           assignee_id  \\\n",
       "0   4488683                  0  b942050d-150f-42e4-83d4-a7cde0870f82   \n",
       "1   5856666                  0  dd8cd1db-a0f0-4b3b-ba4a-25038814e332   \n",
       "2   5204210                  0  8d18afca-9c87-4e93-acd9-db539730dc3b   \n",
       "3   5302149                  1  add68f05-55da-4cd8-9c3a-85d2cf1e1798   \n",
       "4   D397841                  0  a8173451-b1cb-4071-bf4f-b844df2703a7   \n",
       "\n",
       "  disambig_assignee_individual_name_first  \\\n",
       "0                                     NaN   \n",
       "1                                     NaN   \n",
       "2                                     NaN   \n",
       "3                                     NaN   \n",
       "4                                     NaN   \n",
       "\n",
       "  disambig_assignee_individual_name_last  \\\n",
       "0                                    NaN   \n",
       "1                                    NaN   \n",
       "2                                    NaN   \n",
       "3                                    NaN   \n",
       "4                                    NaN   \n",
       "\n",
       "                      disambig_assignee_organization  assignee_type  \\\n",
       "0                            Metal Works Ramat David            3.0   \n",
       "1                           U.S. Philips Corporation            2.0   \n",
       "2                                  Xerox Corporation            2.0   \n",
       "3  COMMONWEALTH SCIENTIFIC AND INDUSTRIAL RESEARC...            3.0   \n",
       "4                                          adidas AG            3.0   \n",
       "\n",
       "                            location_id  \n",
       "0  50dc5d46-16c8-11ed-9b5f-1234bde3cd05  \n",
       "1  92237ca2-16c8-11ed-9b5f-1234bde3cd05  \n",
       "2  0cd1998f-16c8-11ed-9b5f-1234bde3cd05  \n",
       "3  4d36742f-16c8-11ed-9b5f-1234bde3cd05  \n",
       "4  280c9de4-16c8-11ed-9b5f-1234bde3cd05  "
      ]
     },
     "execution_count": 15,
     "metadata": {},
     "output_type": "execute_result"
    }
   ],
   "source": [
    "## process the assignee dataset\n",
    "import pandas as pd\n",
    "import numpy as np\n",
    "assignee= pd.read_csv('g_assignee_disambiguated.tsv', sep='\\t')\n",
    "assignee.head()"
   ]
  },
  {
   "cell_type": "code",
   "execution_count": 16,
   "id": "e2e3f7fa-f3d1-44a3-95d5-c9c56feb7627",
   "metadata": {},
   "outputs": [
    {
     "name": "stdout",
     "output_type": "stream",
     "text": [
      "Loaded dataframe to /projects/research-311404/datasets/temp/tables/assignee\n"
     ]
    }
   ],
   "source": [
    "assignee = assignee[['patent_id','disambig_assignee_organization']]\n",
    "dataset = client.get_dataset('research-311404.temp')  # API request\n",
    "table_ref = dataset.table('assignee')\n",
    "job = client.load_table_from_dataframe(assignee, table_ref, location=\"US\")\n",
    "job.result()  # Waits for table load to complete.\n",
    "print(\"Loaded dataframe to {}\".format(table_ref.path))"
   ]
  },
  {
   "cell_type": "code",
   "execution_count": 17,
   "id": "bd7d0e48-ca01-4465-85db-5d53edb3e6ea",
   "metadata": {
    "tags": []
   },
   "outputs": [
    {
     "name": "stdout",
     "output_type": "stream",
     "text": [
      "Table research-311404.Inventor_Consolidated.assignee_full_data now contains 126407113 rows\n"
     ]
    }
   ],
   "source": [
    "sql = \"\"\"\n",
    "        CREATE TABLE research-311404.Inventor_Consolidated.assignee_full_data\n",
    "        AS \n",
    "        SELECT t1.patent_id,year,inventor_id,with_organization FROM\n",
    "        ((SELECT patent_id,year,inventor_id FROM  `research-311404.AI2Patent_Tree_Consolidated.AI2P_inventor_patent_level_min_full`)t1\n",
    "        LEFT JOIN\n",
    "        (SELECT patent_id, MAX(CASE WHEN disambig_assignee_organization IS NULL THEN 0 ELSE 1 END) AS with_organization FROM research-311404.temp.assignee GROUP BY patent_id)t2\n",
    "        ON t1.patent_id = t2.patent_id)\n",
    "        WHERE with_organization IS NOT NULL\n",
    "        \"\"\"\n",
    "\n",
    "job = client.query(sql)  # API request.\n",
    "job.result()  # Waits for the query to finish.\n",
    "table_id = \"research-311404.Inventor_Consolidated.assignee_full_data\"\n",
    "table = client.get_table(table_id)\n",
    "print(\"Table {} now contains {} rows\".format(table_id, table.num_rows))"
   ]
  },
  {
   "cell_type": "code",
   "execution_count": 18,
   "id": "6e80b9ea-bb1c-41c5-bb9c-7e3d7ad97933",
   "metadata": {
    "tags": []
   },
   "outputs": [],
   "source": [
    "## 126,407,113 patents with inventor-assignee information\n",
    "## This should be in accordance with AI2P Construction\n",
    "for t in range(36):\n",
    "    start_year = t + 1980\n",
    "    end_year = t + 1982\n",
    "    sql = f\"\"\"\n",
    "        CREATE TABLE research-311404.temp.assignee_{end_year}\n",
    "        AS SELECT inventor_id, {end_year} AS fyear,  AVG(with_organization) AS with_organization FROM `research-311404.Inventor_Consolidated.assignee_full_data`\n",
    "        WHERE year >= {start_year} and year <= {end_year}\n",
    "        group by inventor_id\n",
    "        \"\"\"\n",
    "\n",
    "    job = client.query(sql)  # API request.\n",
    "    job.result()  # Waits for the query to finish."
   ]
  },
  {
   "cell_type": "code",
   "execution_count": 19,
   "id": "81fa4ecf-e4b6-4898-91dd-e1585ad10002",
   "metadata": {
    "tags": []
   },
   "outputs": [
    {
     "name": "stdout",
     "output_type": "stream",
     "text": [
      "Table research-311404.AI2Patent_Tree_Consolidated.assignee now contains 18437036 rows\n"
     ]
    }
   ],
   "source": [
    "# Consolidate to a single file\n",
    "sql = \"\"\"\n",
    "        CREATE TABLE research-311404.AI2Patent_Tree_Consolidated.assignee\n",
    "        AS SELECT * FROM `research-311404.temp.assignee_*`\n",
    "        \"\"\"\n",
    "\n",
    "job = client.query(sql)  # API request.\n",
    "job.result()\n",
    "table_id = \"research-311404.AI2Patent_Tree_Consolidated.assignee\"\n",
    "table = client.get_table(table_id)\n",
    "print(\"Table {} now contains {} rows\".format(table_id, table.num_rows))\n",
    "## 18,437,036 inventor-year level observations"
   ]
  }
 ],
 "metadata": {
  "environment": {
   "kernel": "conda-root-py",
   "name": "workbench-notebooks.m113",
   "type": "gcloud",
   "uri": "gcr.io/deeplearning-platform-release/workbench-notebooks:m113"
  },
  "kernelspec": {
   "display_name": "Python 3 (ipykernel) (Local)",
   "language": "python",
   "name": "conda-root-py"
  },
  "language_info": {
   "codemirror_mode": {
    "name": "ipython",
    "version": 3
   },
   "file_extension": ".py",
   "mimetype": "text/x-python",
   "name": "python",
   "nbconvert_exporter": "python",
   "pygments_lexer": "ipython3",
   "version": "3.10.13"
  }
 },
 "nbformat": 4,
 "nbformat_minor": 5
}
